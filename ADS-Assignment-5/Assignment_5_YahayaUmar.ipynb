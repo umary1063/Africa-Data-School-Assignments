{
 "cells": [
  {
   "cell_type": "code",
   "execution_count": 1,
   "metadata": {},
   "outputs": [],
   "source": [
    "import pandas as pd\n",
    "import plotly.express as px"
   ]
  },
  {
   "cell_type": "code",
   "execution_count": 4,
   "metadata": {},
   "outputs": [],
   "source": [
    "data=pd.read_csv('titanic data.csv')"
   ]
  },
  {
   "cell_type": "code",
   "execution_count": 8,
   "metadata": {},
   "outputs": [
    {
     "data": {
      "text/plain": [
       "(891, 12)"
      ]
     },
     "execution_count": 8,
     "metadata": {},
     "output_type": "execute_result"
    }
   ],
   "source": [
    "data.shape"
   ]
  },
  {
   "cell_type": "code",
   "execution_count": 31,
   "metadata": {},
   "outputs": [
    {
     "data": {
      "text/html": [
       "<div>\n",
       "<style scoped>\n",
       "    .dataframe tbody tr th:only-of-type {\n",
       "        vertical-align: middle;\n",
       "    }\n",
       "\n",
       "    .dataframe tbody tr th {\n",
       "        vertical-align: top;\n",
       "    }\n",
       "\n",
       "    .dataframe thead th {\n",
       "        text-align: right;\n",
       "    }\n",
       "</style>\n",
       "<table border=\"1\" class=\"dataframe\">\n",
       "  <thead>\n",
       "    <tr style=\"text-align: right;\">\n",
       "      <th></th>\n",
       "      <th>PassengerId</th>\n",
       "      <th>Survived</th>\n",
       "      <th>Pclass</th>\n",
       "      <th>Name</th>\n",
       "      <th>Sex</th>\n",
       "      <th>Age</th>\n",
       "      <th>SibSp</th>\n",
       "      <th>Parch</th>\n",
       "      <th>Ticket</th>\n",
       "      <th>Fare</th>\n",
       "      <th>Cabin</th>\n",
       "      <th>Embarked</th>\n",
       "    </tr>\n",
       "  </thead>\n",
       "  <tbody>\n",
       "    <tr>\n",
       "      <th>0</th>\n",
       "      <td>1</td>\n",
       "      <td>0</td>\n",
       "      <td>3</td>\n",
       "      <td>Braund, Mr. Owen Harris</td>\n",
       "      <td>male</td>\n",
       "      <td>22.0</td>\n",
       "      <td>1</td>\n",
       "      <td>0</td>\n",
       "      <td>A/5 21171</td>\n",
       "      <td>7.2500</td>\n",
       "      <td>Not Specified</td>\n",
       "      <td>S</td>\n",
       "    </tr>\n",
       "    <tr>\n",
       "      <th>1</th>\n",
       "      <td>2</td>\n",
       "      <td>1</td>\n",
       "      <td>1</td>\n",
       "      <td>Cumings, Mrs. John Bradley (Florence Briggs Th...</td>\n",
       "      <td>female</td>\n",
       "      <td>38.0</td>\n",
       "      <td>1</td>\n",
       "      <td>0</td>\n",
       "      <td>PC 17599</td>\n",
       "      <td>71.2833</td>\n",
       "      <td>C85</td>\n",
       "      <td>C</td>\n",
       "    </tr>\n",
       "    <tr>\n",
       "      <th>2</th>\n",
       "      <td>3</td>\n",
       "      <td>1</td>\n",
       "      <td>3</td>\n",
       "      <td>Heikkinen, Miss. Laina</td>\n",
       "      <td>female</td>\n",
       "      <td>26.0</td>\n",
       "      <td>0</td>\n",
       "      <td>0</td>\n",
       "      <td>STON/O2. 3101282</td>\n",
       "      <td>7.9250</td>\n",
       "      <td>Not Specified</td>\n",
       "      <td>S</td>\n",
       "    </tr>\n",
       "    <tr>\n",
       "      <th>3</th>\n",
       "      <td>4</td>\n",
       "      <td>1</td>\n",
       "      <td>1</td>\n",
       "      <td>Futrelle, Mrs. Jacques Heath (Lily May Peel)</td>\n",
       "      <td>female</td>\n",
       "      <td>35.0</td>\n",
       "      <td>1</td>\n",
       "      <td>0</td>\n",
       "      <td>113803</td>\n",
       "      <td>53.1000</td>\n",
       "      <td>C123</td>\n",
       "      <td>S</td>\n",
       "    </tr>\n",
       "    <tr>\n",
       "      <th>4</th>\n",
       "      <td>5</td>\n",
       "      <td>0</td>\n",
       "      <td>3</td>\n",
       "      <td>Allen, Mr. William Henry</td>\n",
       "      <td>male</td>\n",
       "      <td>35.0</td>\n",
       "      <td>0</td>\n",
       "      <td>0</td>\n",
       "      <td>373450</td>\n",
       "      <td>8.0500</td>\n",
       "      <td>Not Specified</td>\n",
       "      <td>S</td>\n",
       "    </tr>\n",
       "  </tbody>\n",
       "</table>\n",
       "</div>"
      ],
      "text/plain": [
       "   PassengerId  Survived  Pclass  \\\n",
       "0            1         0       3   \n",
       "1            2         1       1   \n",
       "2            3         1       3   \n",
       "3            4         1       1   \n",
       "4            5         0       3   \n",
       "\n",
       "                                                Name     Sex   Age  SibSp  \\\n",
       "0                            Braund, Mr. Owen Harris    male  22.0      1   \n",
       "1  Cumings, Mrs. John Bradley (Florence Briggs Th...  female  38.0      1   \n",
       "2                             Heikkinen, Miss. Laina  female  26.0      0   \n",
       "3       Futrelle, Mrs. Jacques Heath (Lily May Peel)  female  35.0      1   \n",
       "4                           Allen, Mr. William Henry    male  35.0      0   \n",
       "\n",
       "   Parch            Ticket     Fare          Cabin Embarked  \n",
       "0      0         A/5 21171   7.2500  Not Specified        S  \n",
       "1      0          PC 17599  71.2833            C85        C  \n",
       "2      0  STON/O2. 3101282   7.9250  Not Specified        S  \n",
       "3      0            113803  53.1000           C123        S  \n",
       "4      0            373450   8.0500  Not Specified        S  "
      ]
     },
     "execution_count": 31,
     "metadata": {},
     "output_type": "execute_result"
    }
   ],
   "source": [
    "data.head()"
   ]
  },
  {
   "cell_type": "code",
   "execution_count": 32,
   "metadata": {},
   "outputs": [
    {
     "data": {
      "text/plain": [
       "PassengerId    0\n",
       "Survived       0\n",
       "Pclass         0\n",
       "Name           0\n",
       "Sex            0\n",
       "Age            0\n",
       "SibSp          0\n",
       "Parch          0\n",
       "Ticket         0\n",
       "Fare           0\n",
       "Cabin          0\n",
       "Embarked       0\n",
       "dtype: int64"
      ]
     },
     "execution_count": 32,
     "metadata": {},
     "output_type": "execute_result"
    }
   ],
   "source": [
    "data.isnull().sum()"
   ]
  },
  {
   "cell_type": "code",
   "execution_count": 33,
   "metadata": {},
   "outputs": [],
   "source": [
    "# Handling Null Values\n",
    "\n",
    "data['Age'] = data['Age'].fillna(0)\n",
    "data['Cabin'] = data['Cabin'].fillna(\"Not Specified\")\n",
    "data['Embarked'] = data['Embarked'].fillna('Not Specified')"
   ]
  },
  {
   "cell_type": "code",
   "execution_count": 34,
   "metadata": {
    "scrolled": true
   },
   "outputs": [
    {
     "data": {
      "text/plain": [
       "PassengerId    0\n",
       "Survived       0\n",
       "Pclass         0\n",
       "Name           0\n",
       "Sex            0\n",
       "Age            0\n",
       "SibSp          0\n",
       "Parch          0\n",
       "Ticket         0\n",
       "Fare           0\n",
       "Cabin          0\n",
       "Embarked       0\n",
       "dtype: int64"
      ]
     },
     "execution_count": 34,
     "metadata": {},
     "output_type": "execute_result"
    }
   ],
   "source": [
    "data.isnull().sum()"
   ]
  },
  {
   "cell_type": "code",
   "execution_count": 35,
   "metadata": {},
   "outputs": [
    {
     "name": "stdout",
     "output_type": "stream",
     "text": [
      "<class 'pandas.core.frame.DataFrame'>\n",
      "RangeIndex: 891 entries, 0 to 890\n",
      "Data columns (total 12 columns):\n",
      " #   Column       Non-Null Count  Dtype  \n",
      "---  ------       --------------  -----  \n",
      " 0   PassengerId  891 non-null    int64  \n",
      " 1   Survived     891 non-null    int64  \n",
      " 2   Pclass       891 non-null    int64  \n",
      " 3   Name         891 non-null    object \n",
      " 4   Sex          891 non-null    object \n",
      " 5   Age          891 non-null    float64\n",
      " 6   SibSp        891 non-null    int64  \n",
      " 7   Parch        891 non-null    int64  \n",
      " 8   Ticket       891 non-null    object \n",
      " 9   Fare         891 non-null    float64\n",
      " 10  Cabin        891 non-null    object \n",
      " 11  Embarked     891 non-null    object \n",
      "dtypes: float64(2), int64(5), object(5)\n",
      "memory usage: 83.7+ KB\n"
     ]
    }
   ],
   "source": [
    "data.info()"
   ]
  },
  {
   "cell_type": "code",
   "execution_count": 42,
   "metadata": {},
   "outputs": [
    {
     "data": {
      "application/vnd.plotly.v1+json": {
       "config": {
        "plotlyServerURL": "https://plot.ly"
       },
       "data": [
        {
         "alignmentgroup": "True",
         "bingroup": "x",
         "hovertemplate": "Age=%{x}<br>count=%{y}<extra></extra>",
         "legendgroup": "",
         "marker": {
          "color": "indianred",
          "opacity": 0.8
         },
         "name": "",
         "nbinsx": 20,
         "offsetgroup": "",
         "orientation": "v",
         "showlegend": false,
         "type": "histogram",
         "x": [
          22,
          38,
          26,
          35,
          35,
          0,
          54,
          2,
          27,
          14,
          4,
          58,
          20,
          39,
          14,
          55,
          2,
          0,
          31,
          0,
          35,
          34,
          15,
          28,
          8,
          38,
          0,
          19,
          0,
          0,
          40,
          0,
          0,
          66,
          28,
          42,
          0,
          21,
          18,
          14,
          40,
          27,
          0,
          3,
          19,
          0,
          0,
          0,
          0,
          18,
          7,
          21,
          49,
          29,
          65,
          0,
          21,
          28.5,
          5,
          11,
          22,
          38,
          45,
          4,
          0,
          0,
          29,
          19,
          17,
          26,
          32,
          16,
          21,
          26,
          32,
          25,
          0,
          0,
          0.83,
          30,
          22,
          29,
          0,
          28,
          17,
          33,
          16,
          0,
          23,
          24,
          29,
          20,
          46,
          26,
          59,
          0,
          71,
          23,
          34,
          34,
          28,
          0,
          21,
          33,
          37,
          28,
          21,
          0,
          38,
          0,
          47,
          14.5,
          22,
          20,
          17,
          21,
          70.5,
          29,
          24,
          2,
          21,
          0,
          32.5,
          32.5,
          54,
          12,
          0,
          24,
          0,
          45,
          33,
          20,
          47,
          29,
          25,
          23,
          19,
          37,
          16,
          24,
          0,
          22,
          24,
          19,
          18,
          19,
          27,
          9,
          36.5,
          42,
          51,
          22,
          55.5,
          40.5,
          0,
          51,
          16,
          30,
          0,
          0,
          44,
          40,
          26,
          17,
          1,
          9,
          0,
          45,
          0,
          28,
          61,
          4,
          1,
          21,
          56,
          18,
          0,
          50,
          30,
          36,
          0,
          0,
          9,
          1,
          4,
          0,
          0,
          45,
          40,
          36,
          32,
          19,
          19,
          3,
          44,
          58,
          0,
          42,
          0,
          24,
          28,
          0,
          34,
          45.5,
          18,
          2,
          32,
          26,
          16,
          40,
          24,
          35,
          22,
          30,
          0,
          31,
          27,
          42,
          32,
          30,
          16,
          27,
          51,
          0,
          38,
          22,
          19,
          20.5,
          18,
          0,
          35,
          29,
          59,
          5,
          24,
          0,
          44,
          8,
          19,
          33,
          0,
          0,
          29,
          22,
          30,
          44,
          25,
          24,
          37,
          54,
          0,
          29,
          62,
          30,
          41,
          29,
          0,
          30,
          35,
          50,
          0,
          3,
          52,
          40,
          0,
          36,
          16,
          25,
          58,
          35,
          0,
          25,
          41,
          37,
          0,
          63,
          45,
          0,
          7,
          35,
          65,
          28,
          16,
          19,
          0,
          33,
          30,
          22,
          42,
          22,
          26,
          19,
          36,
          24,
          24,
          0,
          23.5,
          2,
          0,
          50,
          0,
          0,
          19,
          0,
          0,
          0.92,
          0,
          17,
          30,
          30,
          24,
          18,
          26,
          28,
          43,
          26,
          24,
          54,
          31,
          40,
          22,
          27,
          30,
          22,
          0,
          36,
          61,
          36,
          31,
          16,
          0,
          45.5,
          38,
          16,
          0,
          0,
          29,
          41,
          45,
          45,
          2,
          24,
          28,
          25,
          36,
          24,
          40,
          0,
          3,
          42,
          23,
          0,
          15,
          25,
          0,
          28,
          22,
          38,
          0,
          0,
          40,
          29,
          45,
          35,
          0,
          30,
          60,
          0,
          0,
          24,
          25,
          18,
          19,
          22,
          3,
          0,
          22,
          27,
          20,
          19,
          42,
          1,
          32,
          35,
          0,
          18,
          1,
          36,
          0,
          17,
          36,
          21,
          28,
          23,
          24,
          22,
          31,
          46,
          23,
          28,
          39,
          26,
          21,
          28,
          20,
          34,
          51,
          3,
          21,
          0,
          0,
          0,
          33,
          0,
          44,
          0,
          34,
          18,
          30,
          10,
          0,
          21,
          29,
          28,
          18,
          0,
          28,
          19,
          0,
          32,
          28,
          0,
          42,
          17,
          50,
          14,
          21,
          24,
          64,
          31,
          45,
          20,
          25,
          28,
          0,
          4,
          13,
          34,
          5,
          52,
          36,
          0,
          30,
          49,
          0,
          29,
          65,
          0,
          50,
          0,
          48,
          34,
          47,
          48,
          0,
          38,
          0,
          56,
          0,
          0.75,
          0,
          38,
          33,
          23,
          22,
          0,
          34,
          29,
          22,
          2,
          9,
          0,
          50,
          63,
          25,
          0,
          35,
          58,
          30,
          9,
          0,
          21,
          55,
          71,
          21,
          0,
          54,
          0,
          25,
          24,
          17,
          21,
          0,
          37,
          16,
          18,
          33,
          0,
          28,
          26,
          29,
          0,
          36,
          54,
          24,
          47,
          34,
          0,
          36,
          32,
          30,
          22,
          0,
          44,
          0,
          40.5,
          50,
          0,
          39,
          23,
          2,
          0,
          17,
          0,
          30,
          7,
          45,
          30,
          0,
          22,
          36,
          9,
          11,
          32,
          50,
          64,
          19,
          0,
          33,
          8,
          17,
          27,
          0,
          22,
          22,
          62,
          48,
          0,
          39,
          36,
          0,
          40,
          28,
          0,
          0,
          24,
          19,
          29,
          0,
          32,
          62,
          53,
          36,
          0,
          16,
          19,
          34,
          39,
          0,
          32,
          25,
          39,
          54,
          36,
          0,
          18,
          47,
          60,
          22,
          0,
          35,
          52,
          47,
          0,
          37,
          36,
          0,
          49,
          0,
          49,
          24,
          0,
          0,
          44,
          35,
          36,
          30,
          27,
          22,
          40,
          39,
          0,
          0,
          0,
          35,
          24,
          34,
          26,
          4,
          26,
          27,
          42,
          20,
          21,
          21,
          61,
          57,
          21,
          26,
          0,
          80,
          51,
          32,
          0,
          9,
          28,
          32,
          31,
          41,
          0,
          20,
          24,
          2,
          0,
          0.75,
          48,
          19,
          56,
          0,
          23,
          0,
          18,
          21,
          0,
          18,
          24,
          0,
          32,
          23,
          58,
          50,
          40,
          47,
          36,
          20,
          32,
          25,
          0,
          43,
          0,
          40,
          31,
          70,
          31,
          0,
          18,
          24.5,
          18,
          43,
          36,
          0,
          27,
          20,
          14,
          60,
          25,
          14,
          19,
          18,
          15,
          31,
          4,
          0,
          25,
          60,
          52,
          44,
          0,
          49,
          42,
          18,
          35,
          18,
          25,
          26,
          39,
          45,
          42,
          22,
          0,
          24,
          0,
          48,
          29,
          52,
          19,
          38,
          27,
          0,
          33,
          6,
          17,
          34,
          50,
          27,
          20,
          30,
          0,
          25,
          25,
          29,
          11,
          0,
          23,
          23,
          28.5,
          48,
          35,
          0,
          0,
          0,
          36,
          21,
          24,
          31,
          70,
          16,
          30,
          19,
          31,
          4,
          6,
          33,
          23,
          48,
          0.67,
          28,
          18,
          34,
          33,
          0,
          41,
          20,
          36,
          16,
          51,
          0,
          30.5,
          0,
          32,
          24,
          48,
          57,
          0,
          54,
          18,
          0,
          5,
          0,
          43,
          13,
          17,
          29,
          0,
          25,
          25,
          18,
          8,
          1,
          46,
          0,
          16,
          0,
          0,
          25,
          39,
          49,
          31,
          30,
          30,
          34,
          31,
          11,
          0.42,
          27,
          31,
          39,
          18,
          39,
          33,
          26,
          39,
          35,
          6,
          30.5,
          0,
          23,
          31,
          43,
          10,
          52,
          27,
          38,
          27,
          2,
          0,
          0,
          1,
          0,
          62,
          15,
          0.83,
          0,
          23,
          18,
          39,
          21,
          0,
          32,
          0,
          20,
          16,
          30,
          34.5,
          17,
          42,
          0,
          35,
          28,
          0,
          4,
          74,
          9,
          16,
          44,
          18,
          45,
          51,
          24,
          0,
          41,
          21,
          48,
          0,
          24,
          42,
          27,
          31,
          0,
          4,
          26,
          47,
          33,
          47,
          28,
          15,
          20,
          19,
          0,
          56,
          25,
          33,
          22,
          28,
          25,
          39,
          27,
          19,
          0,
          26,
          32
         ],
         "xaxis": "x",
         "yaxis": "y"
        }
       ],
       "layout": {
        "barmode": "relative",
        "legend": {
         "tracegroupgap": 0
        },
        "template": {
         "data": {
          "bar": [
           {
            "error_x": {
             "color": "#2a3f5f"
            },
            "error_y": {
             "color": "#2a3f5f"
            },
            "marker": {
             "line": {
              "color": "#E5ECF6",
              "width": 0.5
             }
            },
            "type": "bar"
           }
          ],
          "barpolar": [
           {
            "marker": {
             "line": {
              "color": "#E5ECF6",
              "width": 0.5
             }
            },
            "type": "barpolar"
           }
          ],
          "carpet": [
           {
            "aaxis": {
             "endlinecolor": "#2a3f5f",
             "gridcolor": "white",
             "linecolor": "white",
             "minorgridcolor": "white",
             "startlinecolor": "#2a3f5f"
            },
            "baxis": {
             "endlinecolor": "#2a3f5f",
             "gridcolor": "white",
             "linecolor": "white",
             "minorgridcolor": "white",
             "startlinecolor": "#2a3f5f"
            },
            "type": "carpet"
           }
          ],
          "choropleth": [
           {
            "colorbar": {
             "outlinewidth": 0,
             "ticks": ""
            },
            "type": "choropleth"
           }
          ],
          "contour": [
           {
            "colorbar": {
             "outlinewidth": 0,
             "ticks": ""
            },
            "colorscale": [
             [
              0,
              "#0d0887"
             ],
             [
              0.1111111111111111,
              "#46039f"
             ],
             [
              0.2222222222222222,
              "#7201a8"
             ],
             [
              0.3333333333333333,
              "#9c179e"
             ],
             [
              0.4444444444444444,
              "#bd3786"
             ],
             [
              0.5555555555555556,
              "#d8576b"
             ],
             [
              0.6666666666666666,
              "#ed7953"
             ],
             [
              0.7777777777777778,
              "#fb9f3a"
             ],
             [
              0.8888888888888888,
              "#fdca26"
             ],
             [
              1,
              "#f0f921"
             ]
            ],
            "type": "contour"
           }
          ],
          "contourcarpet": [
           {
            "colorbar": {
             "outlinewidth": 0,
             "ticks": ""
            },
            "type": "contourcarpet"
           }
          ],
          "heatmap": [
           {
            "colorbar": {
             "outlinewidth": 0,
             "ticks": ""
            },
            "colorscale": [
             [
              0,
              "#0d0887"
             ],
             [
              0.1111111111111111,
              "#46039f"
             ],
             [
              0.2222222222222222,
              "#7201a8"
             ],
             [
              0.3333333333333333,
              "#9c179e"
             ],
             [
              0.4444444444444444,
              "#bd3786"
             ],
             [
              0.5555555555555556,
              "#d8576b"
             ],
             [
              0.6666666666666666,
              "#ed7953"
             ],
             [
              0.7777777777777778,
              "#fb9f3a"
             ],
             [
              0.8888888888888888,
              "#fdca26"
             ],
             [
              1,
              "#f0f921"
             ]
            ],
            "type": "heatmap"
           }
          ],
          "heatmapgl": [
           {
            "colorbar": {
             "outlinewidth": 0,
             "ticks": ""
            },
            "colorscale": [
             [
              0,
              "#0d0887"
             ],
             [
              0.1111111111111111,
              "#46039f"
             ],
             [
              0.2222222222222222,
              "#7201a8"
             ],
             [
              0.3333333333333333,
              "#9c179e"
             ],
             [
              0.4444444444444444,
              "#bd3786"
             ],
             [
              0.5555555555555556,
              "#d8576b"
             ],
             [
              0.6666666666666666,
              "#ed7953"
             ],
             [
              0.7777777777777778,
              "#fb9f3a"
             ],
             [
              0.8888888888888888,
              "#fdca26"
             ],
             [
              1,
              "#f0f921"
             ]
            ],
            "type": "heatmapgl"
           }
          ],
          "histogram": [
           {
            "marker": {
             "colorbar": {
              "outlinewidth": 0,
              "ticks": ""
             }
            },
            "type": "histogram"
           }
          ],
          "histogram2d": [
           {
            "colorbar": {
             "outlinewidth": 0,
             "ticks": ""
            },
            "colorscale": [
             [
              0,
              "#0d0887"
             ],
             [
              0.1111111111111111,
              "#46039f"
             ],
             [
              0.2222222222222222,
              "#7201a8"
             ],
             [
              0.3333333333333333,
              "#9c179e"
             ],
             [
              0.4444444444444444,
              "#bd3786"
             ],
             [
              0.5555555555555556,
              "#d8576b"
             ],
             [
              0.6666666666666666,
              "#ed7953"
             ],
             [
              0.7777777777777778,
              "#fb9f3a"
             ],
             [
              0.8888888888888888,
              "#fdca26"
             ],
             [
              1,
              "#f0f921"
             ]
            ],
            "type": "histogram2d"
           }
          ],
          "histogram2dcontour": [
           {
            "colorbar": {
             "outlinewidth": 0,
             "ticks": ""
            },
            "colorscale": [
             [
              0,
              "#0d0887"
             ],
             [
              0.1111111111111111,
              "#46039f"
             ],
             [
              0.2222222222222222,
              "#7201a8"
             ],
             [
              0.3333333333333333,
              "#9c179e"
             ],
             [
              0.4444444444444444,
              "#bd3786"
             ],
             [
              0.5555555555555556,
              "#d8576b"
             ],
             [
              0.6666666666666666,
              "#ed7953"
             ],
             [
              0.7777777777777778,
              "#fb9f3a"
             ],
             [
              0.8888888888888888,
              "#fdca26"
             ],
             [
              1,
              "#f0f921"
             ]
            ],
            "type": "histogram2dcontour"
           }
          ],
          "mesh3d": [
           {
            "colorbar": {
             "outlinewidth": 0,
             "ticks": ""
            },
            "type": "mesh3d"
           }
          ],
          "parcoords": [
           {
            "line": {
             "colorbar": {
              "outlinewidth": 0,
              "ticks": ""
             }
            },
            "type": "parcoords"
           }
          ],
          "pie": [
           {
            "automargin": true,
            "type": "pie"
           }
          ],
          "scatter": [
           {
            "marker": {
             "colorbar": {
              "outlinewidth": 0,
              "ticks": ""
             }
            },
            "type": "scatter"
           }
          ],
          "scatter3d": [
           {
            "line": {
             "colorbar": {
              "outlinewidth": 0,
              "ticks": ""
             }
            },
            "marker": {
             "colorbar": {
              "outlinewidth": 0,
              "ticks": ""
             }
            },
            "type": "scatter3d"
           }
          ],
          "scattercarpet": [
           {
            "marker": {
             "colorbar": {
              "outlinewidth": 0,
              "ticks": ""
             }
            },
            "type": "scattercarpet"
           }
          ],
          "scattergeo": [
           {
            "marker": {
             "colorbar": {
              "outlinewidth": 0,
              "ticks": ""
             }
            },
            "type": "scattergeo"
           }
          ],
          "scattergl": [
           {
            "marker": {
             "colorbar": {
              "outlinewidth": 0,
              "ticks": ""
             }
            },
            "type": "scattergl"
           }
          ],
          "scattermapbox": [
           {
            "marker": {
             "colorbar": {
              "outlinewidth": 0,
              "ticks": ""
             }
            },
            "type": "scattermapbox"
           }
          ],
          "scatterpolar": [
           {
            "marker": {
             "colorbar": {
              "outlinewidth": 0,
              "ticks": ""
             }
            },
            "type": "scatterpolar"
           }
          ],
          "scatterpolargl": [
           {
            "marker": {
             "colorbar": {
              "outlinewidth": 0,
              "ticks": ""
             }
            },
            "type": "scatterpolargl"
           }
          ],
          "scatterternary": [
           {
            "marker": {
             "colorbar": {
              "outlinewidth": 0,
              "ticks": ""
             }
            },
            "type": "scatterternary"
           }
          ],
          "surface": [
           {
            "colorbar": {
             "outlinewidth": 0,
             "ticks": ""
            },
            "colorscale": [
             [
              0,
              "#0d0887"
             ],
             [
              0.1111111111111111,
              "#46039f"
             ],
             [
              0.2222222222222222,
              "#7201a8"
             ],
             [
              0.3333333333333333,
              "#9c179e"
             ],
             [
              0.4444444444444444,
              "#bd3786"
             ],
             [
              0.5555555555555556,
              "#d8576b"
             ],
             [
              0.6666666666666666,
              "#ed7953"
             ],
             [
              0.7777777777777778,
              "#fb9f3a"
             ],
             [
              0.8888888888888888,
              "#fdca26"
             ],
             [
              1,
              "#f0f921"
             ]
            ],
            "type": "surface"
           }
          ],
          "table": [
           {
            "cells": {
             "fill": {
              "color": "#EBF0F8"
             },
             "line": {
              "color": "white"
             }
            },
            "header": {
             "fill": {
              "color": "#C8D4E3"
             },
             "line": {
              "color": "white"
             }
            },
            "type": "table"
           }
          ]
         },
         "layout": {
          "annotationdefaults": {
           "arrowcolor": "#2a3f5f",
           "arrowhead": 0,
           "arrowwidth": 1
          },
          "autotypenumbers": "strict",
          "coloraxis": {
           "colorbar": {
            "outlinewidth": 0,
            "ticks": ""
           }
          },
          "colorscale": {
           "diverging": [
            [
             0,
             "#8e0152"
            ],
            [
             0.1,
             "#c51b7d"
            ],
            [
             0.2,
             "#de77ae"
            ],
            [
             0.3,
             "#f1b6da"
            ],
            [
             0.4,
             "#fde0ef"
            ],
            [
             0.5,
             "#f7f7f7"
            ],
            [
             0.6,
             "#e6f5d0"
            ],
            [
             0.7,
             "#b8e186"
            ],
            [
             0.8,
             "#7fbc41"
            ],
            [
             0.9,
             "#4d9221"
            ],
            [
             1,
             "#276419"
            ]
           ],
           "sequential": [
            [
             0,
             "#0d0887"
            ],
            [
             0.1111111111111111,
             "#46039f"
            ],
            [
             0.2222222222222222,
             "#7201a8"
            ],
            [
             0.3333333333333333,
             "#9c179e"
            ],
            [
             0.4444444444444444,
             "#bd3786"
            ],
            [
             0.5555555555555556,
             "#d8576b"
            ],
            [
             0.6666666666666666,
             "#ed7953"
            ],
            [
             0.7777777777777778,
             "#fb9f3a"
            ],
            [
             0.8888888888888888,
             "#fdca26"
            ],
            [
             1,
             "#f0f921"
            ]
           ],
           "sequentialminus": [
            [
             0,
             "#0d0887"
            ],
            [
             0.1111111111111111,
             "#46039f"
            ],
            [
             0.2222222222222222,
             "#7201a8"
            ],
            [
             0.3333333333333333,
             "#9c179e"
            ],
            [
             0.4444444444444444,
             "#bd3786"
            ],
            [
             0.5555555555555556,
             "#d8576b"
            ],
            [
             0.6666666666666666,
             "#ed7953"
            ],
            [
             0.7777777777777778,
             "#fb9f3a"
            ],
            [
             0.8888888888888888,
             "#fdca26"
            ],
            [
             1,
             "#f0f921"
            ]
           ]
          },
          "colorway": [
           "#636efa",
           "#EF553B",
           "#00cc96",
           "#ab63fa",
           "#FFA15A",
           "#19d3f3",
           "#FF6692",
           "#B6E880",
           "#FF97FF",
           "#FECB52"
          ],
          "font": {
           "color": "#2a3f5f"
          },
          "geo": {
           "bgcolor": "white",
           "lakecolor": "white",
           "landcolor": "#E5ECF6",
           "showlakes": true,
           "showland": true,
           "subunitcolor": "white"
          },
          "hoverlabel": {
           "align": "left"
          },
          "hovermode": "closest",
          "mapbox": {
           "style": "light"
          },
          "paper_bgcolor": "white",
          "plot_bgcolor": "#E5ECF6",
          "polar": {
           "angularaxis": {
            "gridcolor": "white",
            "linecolor": "white",
            "ticks": ""
           },
           "bgcolor": "#E5ECF6",
           "radialaxis": {
            "gridcolor": "white",
            "linecolor": "white",
            "ticks": ""
           }
          },
          "scene": {
           "xaxis": {
            "backgroundcolor": "#E5ECF6",
            "gridcolor": "white",
            "gridwidth": 2,
            "linecolor": "white",
            "showbackground": true,
            "ticks": "",
            "zerolinecolor": "white"
           },
           "yaxis": {
            "backgroundcolor": "#E5ECF6",
            "gridcolor": "white",
            "gridwidth": 2,
            "linecolor": "white",
            "showbackground": true,
            "ticks": "",
            "zerolinecolor": "white"
           },
           "zaxis": {
            "backgroundcolor": "#E5ECF6",
            "gridcolor": "white",
            "gridwidth": 2,
            "linecolor": "white",
            "showbackground": true,
            "ticks": "",
            "zerolinecolor": "white"
           }
          },
          "shapedefaults": {
           "line": {
            "color": "#2a3f5f"
           }
          },
          "ternary": {
           "aaxis": {
            "gridcolor": "white",
            "linecolor": "white",
            "ticks": ""
           },
           "baxis": {
            "gridcolor": "white",
            "linecolor": "white",
            "ticks": ""
           },
           "bgcolor": "#E5ECF6",
           "caxis": {
            "gridcolor": "white",
            "linecolor": "white",
            "ticks": ""
           }
          },
          "title": {
           "x": 0.05
          },
          "xaxis": {
           "automargin": true,
           "gridcolor": "white",
           "linecolor": "white",
           "ticks": "",
           "title": {
            "standoff": 15
           },
           "zerolinecolor": "white",
           "zerolinewidth": 2
          },
          "yaxis": {
           "automargin": true,
           "gridcolor": "white",
           "linecolor": "white",
           "ticks": "",
           "title": {
            "standoff": 15
           },
           "zerolinecolor": "white",
           "zerolinewidth": 2
          }
         }
        },
        "title": {
         "text": "Histogram of Age"
        },
        "xaxis": {
         "anchor": "y",
         "domain": [
          0,
          1
         ],
         "title": {
          "text": "Age"
         }
        },
        "yaxis": {
         "anchor": "x",
         "domain": [
          0,
          1
         ],
         "title": {
          "text": "count"
         }
        }
       }
      },
      "text/html": [
       "<div>                            <div id=\"b8166839-a851-4aaa-800d-b57d0ff2faaa\" class=\"plotly-graph-div\" style=\"height:525px; width:100%;\"></div>            <script type=\"text/javascript\">                require([\"plotly\"], function(Plotly) {                    window.PLOTLYENV=window.PLOTLYENV || {};                                    if (document.getElementById(\"b8166839-a851-4aaa-800d-b57d0ff2faaa\")) {                    Plotly.newPlot(                        \"b8166839-a851-4aaa-800d-b57d0ff2faaa\",                        [{\"alignmentgroup\": \"True\", \"bingroup\": \"x\", \"hovertemplate\": \"Age=%{x}<br>count=%{y}<extra></extra>\", \"legendgroup\": \"\", \"marker\": {\"color\": \"indianred\", \"opacity\": 0.8}, \"name\": \"\", \"nbinsx\": 20, \"offsetgroup\": \"\", \"orientation\": \"v\", \"showlegend\": false, \"type\": \"histogram\", \"x\": [22.0, 38.0, 26.0, 35.0, 35.0, 0.0, 54.0, 2.0, 27.0, 14.0, 4.0, 58.0, 20.0, 39.0, 14.0, 55.0, 2.0, 0.0, 31.0, 0.0, 35.0, 34.0, 15.0, 28.0, 8.0, 38.0, 0.0, 19.0, 0.0, 0.0, 40.0, 0.0, 0.0, 66.0, 28.0, 42.0, 0.0, 21.0, 18.0, 14.0, 40.0, 27.0, 0.0, 3.0, 19.0, 0.0, 0.0, 0.0, 0.0, 18.0, 7.0, 21.0, 49.0, 29.0, 65.0, 0.0, 21.0, 28.5, 5.0, 11.0, 22.0, 38.0, 45.0, 4.0, 0.0, 0.0, 29.0, 19.0, 17.0, 26.0, 32.0, 16.0, 21.0, 26.0, 32.0, 25.0, 0.0, 0.0, 0.83, 30.0, 22.0, 29.0, 0.0, 28.0, 17.0, 33.0, 16.0, 0.0, 23.0, 24.0, 29.0, 20.0, 46.0, 26.0, 59.0, 0.0, 71.0, 23.0, 34.0, 34.0, 28.0, 0.0, 21.0, 33.0, 37.0, 28.0, 21.0, 0.0, 38.0, 0.0, 47.0, 14.5, 22.0, 20.0, 17.0, 21.0, 70.5, 29.0, 24.0, 2.0, 21.0, 0.0, 32.5, 32.5, 54.0, 12.0, 0.0, 24.0, 0.0, 45.0, 33.0, 20.0, 47.0, 29.0, 25.0, 23.0, 19.0, 37.0, 16.0, 24.0, 0.0, 22.0, 24.0, 19.0, 18.0, 19.0, 27.0, 9.0, 36.5, 42.0, 51.0, 22.0, 55.5, 40.5, 0.0, 51.0, 16.0, 30.0, 0.0, 0.0, 44.0, 40.0, 26.0, 17.0, 1.0, 9.0, 0.0, 45.0, 0.0, 28.0, 61.0, 4.0, 1.0, 21.0, 56.0, 18.0, 0.0, 50.0, 30.0, 36.0, 0.0, 0.0, 9.0, 1.0, 4.0, 0.0, 0.0, 45.0, 40.0, 36.0, 32.0, 19.0, 19.0, 3.0, 44.0, 58.0, 0.0, 42.0, 0.0, 24.0, 28.0, 0.0, 34.0, 45.5, 18.0, 2.0, 32.0, 26.0, 16.0, 40.0, 24.0, 35.0, 22.0, 30.0, 0.0, 31.0, 27.0, 42.0, 32.0, 30.0, 16.0, 27.0, 51.0, 0.0, 38.0, 22.0, 19.0, 20.5, 18.0, 0.0, 35.0, 29.0, 59.0, 5.0, 24.0, 0.0, 44.0, 8.0, 19.0, 33.0, 0.0, 0.0, 29.0, 22.0, 30.0, 44.0, 25.0, 24.0, 37.0, 54.0, 0.0, 29.0, 62.0, 30.0, 41.0, 29.0, 0.0, 30.0, 35.0, 50.0, 0.0, 3.0, 52.0, 40.0, 0.0, 36.0, 16.0, 25.0, 58.0, 35.0, 0.0, 25.0, 41.0, 37.0, 0.0, 63.0, 45.0, 0.0, 7.0, 35.0, 65.0, 28.0, 16.0, 19.0, 0.0, 33.0, 30.0, 22.0, 42.0, 22.0, 26.0, 19.0, 36.0, 24.0, 24.0, 0.0, 23.5, 2.0, 0.0, 50.0, 0.0, 0.0, 19.0, 0.0, 0.0, 0.92, 0.0, 17.0, 30.0, 30.0, 24.0, 18.0, 26.0, 28.0, 43.0, 26.0, 24.0, 54.0, 31.0, 40.0, 22.0, 27.0, 30.0, 22.0, 0.0, 36.0, 61.0, 36.0, 31.0, 16.0, 0.0, 45.5, 38.0, 16.0, 0.0, 0.0, 29.0, 41.0, 45.0, 45.0, 2.0, 24.0, 28.0, 25.0, 36.0, 24.0, 40.0, 0.0, 3.0, 42.0, 23.0, 0.0, 15.0, 25.0, 0.0, 28.0, 22.0, 38.0, 0.0, 0.0, 40.0, 29.0, 45.0, 35.0, 0.0, 30.0, 60.0, 0.0, 0.0, 24.0, 25.0, 18.0, 19.0, 22.0, 3.0, 0.0, 22.0, 27.0, 20.0, 19.0, 42.0, 1.0, 32.0, 35.0, 0.0, 18.0, 1.0, 36.0, 0.0, 17.0, 36.0, 21.0, 28.0, 23.0, 24.0, 22.0, 31.0, 46.0, 23.0, 28.0, 39.0, 26.0, 21.0, 28.0, 20.0, 34.0, 51.0, 3.0, 21.0, 0.0, 0.0, 0.0, 33.0, 0.0, 44.0, 0.0, 34.0, 18.0, 30.0, 10.0, 0.0, 21.0, 29.0, 28.0, 18.0, 0.0, 28.0, 19.0, 0.0, 32.0, 28.0, 0.0, 42.0, 17.0, 50.0, 14.0, 21.0, 24.0, 64.0, 31.0, 45.0, 20.0, 25.0, 28.0, 0.0, 4.0, 13.0, 34.0, 5.0, 52.0, 36.0, 0.0, 30.0, 49.0, 0.0, 29.0, 65.0, 0.0, 50.0, 0.0, 48.0, 34.0, 47.0, 48.0, 0.0, 38.0, 0.0, 56.0, 0.0, 0.75, 0.0, 38.0, 33.0, 23.0, 22.0, 0.0, 34.0, 29.0, 22.0, 2.0, 9.0, 0.0, 50.0, 63.0, 25.0, 0.0, 35.0, 58.0, 30.0, 9.0, 0.0, 21.0, 55.0, 71.0, 21.0, 0.0, 54.0, 0.0, 25.0, 24.0, 17.0, 21.0, 0.0, 37.0, 16.0, 18.0, 33.0, 0.0, 28.0, 26.0, 29.0, 0.0, 36.0, 54.0, 24.0, 47.0, 34.0, 0.0, 36.0, 32.0, 30.0, 22.0, 0.0, 44.0, 0.0, 40.5, 50.0, 0.0, 39.0, 23.0, 2.0, 0.0, 17.0, 0.0, 30.0, 7.0, 45.0, 30.0, 0.0, 22.0, 36.0, 9.0, 11.0, 32.0, 50.0, 64.0, 19.0, 0.0, 33.0, 8.0, 17.0, 27.0, 0.0, 22.0, 22.0, 62.0, 48.0, 0.0, 39.0, 36.0, 0.0, 40.0, 28.0, 0.0, 0.0, 24.0, 19.0, 29.0, 0.0, 32.0, 62.0, 53.0, 36.0, 0.0, 16.0, 19.0, 34.0, 39.0, 0.0, 32.0, 25.0, 39.0, 54.0, 36.0, 0.0, 18.0, 47.0, 60.0, 22.0, 0.0, 35.0, 52.0, 47.0, 0.0, 37.0, 36.0, 0.0, 49.0, 0.0, 49.0, 24.0, 0.0, 0.0, 44.0, 35.0, 36.0, 30.0, 27.0, 22.0, 40.0, 39.0, 0.0, 0.0, 0.0, 35.0, 24.0, 34.0, 26.0, 4.0, 26.0, 27.0, 42.0, 20.0, 21.0, 21.0, 61.0, 57.0, 21.0, 26.0, 0.0, 80.0, 51.0, 32.0, 0.0, 9.0, 28.0, 32.0, 31.0, 41.0, 0.0, 20.0, 24.0, 2.0, 0.0, 0.75, 48.0, 19.0, 56.0, 0.0, 23.0, 0.0, 18.0, 21.0, 0.0, 18.0, 24.0, 0.0, 32.0, 23.0, 58.0, 50.0, 40.0, 47.0, 36.0, 20.0, 32.0, 25.0, 0.0, 43.0, 0.0, 40.0, 31.0, 70.0, 31.0, 0.0, 18.0, 24.5, 18.0, 43.0, 36.0, 0.0, 27.0, 20.0, 14.0, 60.0, 25.0, 14.0, 19.0, 18.0, 15.0, 31.0, 4.0, 0.0, 25.0, 60.0, 52.0, 44.0, 0.0, 49.0, 42.0, 18.0, 35.0, 18.0, 25.0, 26.0, 39.0, 45.0, 42.0, 22.0, 0.0, 24.0, 0.0, 48.0, 29.0, 52.0, 19.0, 38.0, 27.0, 0.0, 33.0, 6.0, 17.0, 34.0, 50.0, 27.0, 20.0, 30.0, 0.0, 25.0, 25.0, 29.0, 11.0, 0.0, 23.0, 23.0, 28.5, 48.0, 35.0, 0.0, 0.0, 0.0, 36.0, 21.0, 24.0, 31.0, 70.0, 16.0, 30.0, 19.0, 31.0, 4.0, 6.0, 33.0, 23.0, 48.0, 0.67, 28.0, 18.0, 34.0, 33.0, 0.0, 41.0, 20.0, 36.0, 16.0, 51.0, 0.0, 30.5, 0.0, 32.0, 24.0, 48.0, 57.0, 0.0, 54.0, 18.0, 0.0, 5.0, 0.0, 43.0, 13.0, 17.0, 29.0, 0.0, 25.0, 25.0, 18.0, 8.0, 1.0, 46.0, 0.0, 16.0, 0.0, 0.0, 25.0, 39.0, 49.0, 31.0, 30.0, 30.0, 34.0, 31.0, 11.0, 0.42, 27.0, 31.0, 39.0, 18.0, 39.0, 33.0, 26.0, 39.0, 35.0, 6.0, 30.5, 0.0, 23.0, 31.0, 43.0, 10.0, 52.0, 27.0, 38.0, 27.0, 2.0, 0.0, 0.0, 1.0, 0.0, 62.0, 15.0, 0.83, 0.0, 23.0, 18.0, 39.0, 21.0, 0.0, 32.0, 0.0, 20.0, 16.0, 30.0, 34.5, 17.0, 42.0, 0.0, 35.0, 28.0, 0.0, 4.0, 74.0, 9.0, 16.0, 44.0, 18.0, 45.0, 51.0, 24.0, 0.0, 41.0, 21.0, 48.0, 0.0, 24.0, 42.0, 27.0, 31.0, 0.0, 4.0, 26.0, 47.0, 33.0, 47.0, 28.0, 15.0, 20.0, 19.0, 0.0, 56.0, 25.0, 33.0, 22.0, 28.0, 25.0, 39.0, 27.0, 19.0, 0.0, 26.0, 32.0], \"xaxis\": \"x\", \"yaxis\": \"y\"}],                        {\"barmode\": \"relative\", \"legend\": {\"tracegroupgap\": 0}, \"template\": {\"data\": {\"bar\": [{\"error_x\": {\"color\": \"#2a3f5f\"}, \"error_y\": {\"color\": \"#2a3f5f\"}, \"marker\": {\"line\": {\"color\": \"#E5ECF6\", \"width\": 0.5}}, \"type\": \"bar\"}], \"barpolar\": [{\"marker\": {\"line\": {\"color\": \"#E5ECF6\", \"width\": 0.5}}, \"type\": \"barpolar\"}], \"carpet\": [{\"aaxis\": {\"endlinecolor\": \"#2a3f5f\", \"gridcolor\": \"white\", \"linecolor\": \"white\", \"minorgridcolor\": \"white\", \"startlinecolor\": \"#2a3f5f\"}, \"baxis\": {\"endlinecolor\": \"#2a3f5f\", \"gridcolor\": \"white\", \"linecolor\": \"white\", \"minorgridcolor\": \"white\", \"startlinecolor\": \"#2a3f5f\"}, \"type\": \"carpet\"}], \"choropleth\": [{\"colorbar\": {\"outlinewidth\": 0, \"ticks\": \"\"}, \"type\": \"choropleth\"}], \"contour\": [{\"colorbar\": {\"outlinewidth\": 0, \"ticks\": \"\"}, \"colorscale\": [[0.0, \"#0d0887\"], [0.1111111111111111, \"#46039f\"], [0.2222222222222222, \"#7201a8\"], [0.3333333333333333, \"#9c179e\"], [0.4444444444444444, \"#bd3786\"], [0.5555555555555556, \"#d8576b\"], [0.6666666666666666, \"#ed7953\"], [0.7777777777777778, \"#fb9f3a\"], [0.8888888888888888, \"#fdca26\"], [1.0, \"#f0f921\"]], \"type\": \"contour\"}], \"contourcarpet\": [{\"colorbar\": {\"outlinewidth\": 0, \"ticks\": \"\"}, \"type\": \"contourcarpet\"}], \"heatmap\": [{\"colorbar\": {\"outlinewidth\": 0, \"ticks\": \"\"}, \"colorscale\": [[0.0, \"#0d0887\"], [0.1111111111111111, \"#46039f\"], [0.2222222222222222, \"#7201a8\"], [0.3333333333333333, \"#9c179e\"], [0.4444444444444444, \"#bd3786\"], [0.5555555555555556, \"#d8576b\"], [0.6666666666666666, \"#ed7953\"], [0.7777777777777778, \"#fb9f3a\"], [0.8888888888888888, \"#fdca26\"], [1.0, \"#f0f921\"]], \"type\": \"heatmap\"}], \"heatmapgl\": [{\"colorbar\": {\"outlinewidth\": 0, \"ticks\": \"\"}, \"colorscale\": [[0.0, \"#0d0887\"], [0.1111111111111111, \"#46039f\"], [0.2222222222222222, \"#7201a8\"], [0.3333333333333333, \"#9c179e\"], [0.4444444444444444, \"#bd3786\"], [0.5555555555555556, \"#d8576b\"], [0.6666666666666666, \"#ed7953\"], [0.7777777777777778, \"#fb9f3a\"], [0.8888888888888888, \"#fdca26\"], [1.0, \"#f0f921\"]], \"type\": \"heatmapgl\"}], \"histogram\": [{\"marker\": {\"colorbar\": {\"outlinewidth\": 0, \"ticks\": \"\"}}, \"type\": \"histogram\"}], \"histogram2d\": [{\"colorbar\": {\"outlinewidth\": 0, \"ticks\": \"\"}, \"colorscale\": [[0.0, \"#0d0887\"], [0.1111111111111111, \"#46039f\"], [0.2222222222222222, \"#7201a8\"], [0.3333333333333333, \"#9c179e\"], [0.4444444444444444, \"#bd3786\"], [0.5555555555555556, \"#d8576b\"], [0.6666666666666666, \"#ed7953\"], [0.7777777777777778, \"#fb9f3a\"], [0.8888888888888888, \"#fdca26\"], [1.0, \"#f0f921\"]], \"type\": \"histogram2d\"}], \"histogram2dcontour\": [{\"colorbar\": {\"outlinewidth\": 0, \"ticks\": \"\"}, \"colorscale\": [[0.0, \"#0d0887\"], [0.1111111111111111, \"#46039f\"], [0.2222222222222222, \"#7201a8\"], [0.3333333333333333, \"#9c179e\"], [0.4444444444444444, \"#bd3786\"], [0.5555555555555556, \"#d8576b\"], [0.6666666666666666, \"#ed7953\"], [0.7777777777777778, \"#fb9f3a\"], [0.8888888888888888, \"#fdca26\"], [1.0, \"#f0f921\"]], \"type\": \"histogram2dcontour\"}], \"mesh3d\": [{\"colorbar\": {\"outlinewidth\": 0, \"ticks\": \"\"}, \"type\": \"mesh3d\"}], \"parcoords\": [{\"line\": {\"colorbar\": {\"outlinewidth\": 0, \"ticks\": \"\"}}, \"type\": \"parcoords\"}], \"pie\": [{\"automargin\": true, \"type\": \"pie\"}], \"scatter\": [{\"marker\": {\"colorbar\": {\"outlinewidth\": 0, \"ticks\": \"\"}}, \"type\": \"scatter\"}], \"scatter3d\": [{\"line\": {\"colorbar\": {\"outlinewidth\": 0, \"ticks\": \"\"}}, \"marker\": {\"colorbar\": {\"outlinewidth\": 0, \"ticks\": \"\"}}, \"type\": \"scatter3d\"}], \"scattercarpet\": [{\"marker\": {\"colorbar\": {\"outlinewidth\": 0, \"ticks\": \"\"}}, \"type\": \"scattercarpet\"}], \"scattergeo\": [{\"marker\": {\"colorbar\": {\"outlinewidth\": 0, \"ticks\": \"\"}}, \"type\": \"scattergeo\"}], \"scattergl\": [{\"marker\": {\"colorbar\": {\"outlinewidth\": 0, \"ticks\": \"\"}}, \"type\": \"scattergl\"}], \"scattermapbox\": [{\"marker\": {\"colorbar\": {\"outlinewidth\": 0, \"ticks\": \"\"}}, \"type\": \"scattermapbox\"}], \"scatterpolar\": [{\"marker\": {\"colorbar\": {\"outlinewidth\": 0, \"ticks\": \"\"}}, \"type\": \"scatterpolar\"}], \"scatterpolargl\": [{\"marker\": {\"colorbar\": {\"outlinewidth\": 0, \"ticks\": \"\"}}, \"type\": \"scatterpolargl\"}], \"scatterternary\": [{\"marker\": {\"colorbar\": {\"outlinewidth\": 0, \"ticks\": \"\"}}, \"type\": \"scatterternary\"}], \"surface\": [{\"colorbar\": {\"outlinewidth\": 0, \"ticks\": \"\"}, \"colorscale\": [[0.0, \"#0d0887\"], [0.1111111111111111, \"#46039f\"], [0.2222222222222222, \"#7201a8\"], [0.3333333333333333, \"#9c179e\"], [0.4444444444444444, \"#bd3786\"], [0.5555555555555556, \"#d8576b\"], [0.6666666666666666, \"#ed7953\"], [0.7777777777777778, \"#fb9f3a\"], [0.8888888888888888, \"#fdca26\"], [1.0, \"#f0f921\"]], \"type\": \"surface\"}], \"table\": [{\"cells\": {\"fill\": {\"color\": \"#EBF0F8\"}, \"line\": {\"color\": \"white\"}}, \"header\": {\"fill\": {\"color\": \"#C8D4E3\"}, \"line\": {\"color\": \"white\"}}, \"type\": \"table\"}]}, \"layout\": {\"annotationdefaults\": {\"arrowcolor\": \"#2a3f5f\", \"arrowhead\": 0, \"arrowwidth\": 1}, \"autotypenumbers\": \"strict\", \"coloraxis\": {\"colorbar\": {\"outlinewidth\": 0, \"ticks\": \"\"}}, \"colorscale\": {\"diverging\": [[0, \"#8e0152\"], [0.1, \"#c51b7d\"], [0.2, \"#de77ae\"], [0.3, \"#f1b6da\"], [0.4, \"#fde0ef\"], [0.5, \"#f7f7f7\"], [0.6, \"#e6f5d0\"], [0.7, \"#b8e186\"], [0.8, \"#7fbc41\"], [0.9, \"#4d9221\"], [1, \"#276419\"]], \"sequential\": [[0.0, \"#0d0887\"], [0.1111111111111111, \"#46039f\"], [0.2222222222222222, \"#7201a8\"], [0.3333333333333333, \"#9c179e\"], [0.4444444444444444, \"#bd3786\"], [0.5555555555555556, \"#d8576b\"], [0.6666666666666666, \"#ed7953\"], [0.7777777777777778, \"#fb9f3a\"], [0.8888888888888888, \"#fdca26\"], [1.0, \"#f0f921\"]], \"sequentialminus\": [[0.0, \"#0d0887\"], [0.1111111111111111, \"#46039f\"], [0.2222222222222222, \"#7201a8\"], [0.3333333333333333, \"#9c179e\"], [0.4444444444444444, \"#bd3786\"], [0.5555555555555556, \"#d8576b\"], [0.6666666666666666, \"#ed7953\"], [0.7777777777777778, \"#fb9f3a\"], [0.8888888888888888, \"#fdca26\"], [1.0, \"#f0f921\"]]}, \"colorway\": [\"#636efa\", \"#EF553B\", \"#00cc96\", \"#ab63fa\", \"#FFA15A\", \"#19d3f3\", \"#FF6692\", \"#B6E880\", \"#FF97FF\", \"#FECB52\"], \"font\": {\"color\": \"#2a3f5f\"}, \"geo\": {\"bgcolor\": \"white\", \"lakecolor\": \"white\", \"landcolor\": \"#E5ECF6\", \"showlakes\": true, \"showland\": true, \"subunitcolor\": \"white\"}, \"hoverlabel\": {\"align\": \"left\"}, \"hovermode\": \"closest\", \"mapbox\": {\"style\": \"light\"}, \"paper_bgcolor\": \"white\", \"plot_bgcolor\": \"#E5ECF6\", \"polar\": {\"angularaxis\": {\"gridcolor\": \"white\", \"linecolor\": \"white\", \"ticks\": \"\"}, \"bgcolor\": \"#E5ECF6\", \"radialaxis\": {\"gridcolor\": \"white\", \"linecolor\": \"white\", \"ticks\": \"\"}}, \"scene\": {\"xaxis\": {\"backgroundcolor\": \"#E5ECF6\", \"gridcolor\": \"white\", \"gridwidth\": 2, \"linecolor\": \"white\", \"showbackground\": true, \"ticks\": \"\", \"zerolinecolor\": \"white\"}, \"yaxis\": {\"backgroundcolor\": \"#E5ECF6\", \"gridcolor\": \"white\", \"gridwidth\": 2, \"linecolor\": \"white\", \"showbackground\": true, \"ticks\": \"\", \"zerolinecolor\": \"white\"}, \"zaxis\": {\"backgroundcolor\": \"#E5ECF6\", \"gridcolor\": \"white\", \"gridwidth\": 2, \"linecolor\": \"white\", \"showbackground\": true, \"ticks\": \"\", \"zerolinecolor\": \"white\"}}, \"shapedefaults\": {\"line\": {\"color\": \"#2a3f5f\"}}, \"ternary\": {\"aaxis\": {\"gridcolor\": \"white\", \"linecolor\": \"white\", \"ticks\": \"\"}, \"baxis\": {\"gridcolor\": \"white\", \"linecolor\": \"white\", \"ticks\": \"\"}, \"bgcolor\": \"#E5ECF6\", \"caxis\": {\"gridcolor\": \"white\", \"linecolor\": \"white\", \"ticks\": \"\"}}, \"title\": {\"x\": 0.05}, \"xaxis\": {\"automargin\": true, \"gridcolor\": \"white\", \"linecolor\": \"white\", \"ticks\": \"\", \"title\": {\"standoff\": 15}, \"zerolinecolor\": \"white\", \"zerolinewidth\": 2}, \"yaxis\": {\"automargin\": true, \"gridcolor\": \"white\", \"linecolor\": \"white\", \"ticks\": \"\", \"title\": {\"standoff\": 15}, \"zerolinecolor\": \"white\", \"zerolinewidth\": 2}}}, \"title\": {\"text\": \"Histogram of Age\"}, \"xaxis\": {\"anchor\": \"y\", \"domain\": [0.0, 1.0], \"title\": {\"text\": \"Age\"}}, \"yaxis\": {\"anchor\": \"x\", \"domain\": [0.0, 1.0], \"title\": {\"text\": \"count\"}}},                        {\"responsive\": true}                    ).then(function(){\n",
       "                            \n",
       "var gd = document.getElementById('b8166839-a851-4aaa-800d-b57d0ff2faaa');\n",
       "var x = new MutationObserver(function (mutations, observer) {{\n",
       "        var display = window.getComputedStyle(gd).display;\n",
       "        if (!display || display === 'none') {{\n",
       "            console.log([gd, 'removed!']);\n",
       "            Plotly.purge(gd);\n",
       "            observer.disconnect();\n",
       "        }}\n",
       "}});\n",
       "\n",
       "// Listen for the removal of the full notebook cells\n",
       "var notebookContainer = gd.closest('#notebook-container');\n",
       "if (notebookContainer) {{\n",
       "    x.observe(notebookContainer, {childList: true});\n",
       "}}\n",
       "\n",
       "// Listen for the clearing of the current output cell\n",
       "var outputEl = gd.closest('.output');\n",
       "if (outputEl) {{\n",
       "    x.observe(outputEl, {childList: true});\n",
       "}}\n",
       "\n",
       "                        })                };                });            </script>        </div>"
      ]
     },
     "metadata": {},
     "output_type": "display_data"
    }
   ],
   "source": [
    "q1 = px.histogram(data, x=\"Age\", nbins=20, \n",
    "                title='Histogram of Age',\n",
    "                opacity=0.8,\n",
    "                color_discrete_sequence=['indianred'])\n",
    "q1.show()"
   ]
  },
  {
   "cell_type": "code",
   "execution_count": 54,
   "metadata": {},
   "outputs": [
    {
     "data": {
      "application/vnd.plotly.v1+json": {
       "config": {
        "plotlyServerURL": "https://plot.ly"
       },
       "data": [
        {
         "alignmentgroup": "True",
         "bingroup": "x",
         "hovertemplate": "Sex=male<br>Age=%{x}<br>count=%{y}<extra></extra>",
         "legendgroup": "male",
         "marker": {
          "color": "#636efa"
         },
         "name": "male",
         "nbinsx": 20,
         "offsetgroup": "male",
         "orientation": "v",
         "showlegend": true,
         "type": "histogram",
         "x": [
          22,
          35,
          0,
          54,
          2,
          20,
          39,
          2,
          0,
          35,
          34,
          28,
          0,
          19,
          0,
          40,
          66,
          28,
          42,
          0,
          21,
          0,
          0,
          0,
          0,
          7,
          21,
          65,
          0,
          28.5,
          11,
          22,
          45,
          4,
          0,
          0,
          19,
          26,
          32,
          21,
          26,
          32,
          25,
          0,
          0,
          0.83,
          22,
          29,
          28,
          16,
          0,
          24,
          29,
          20,
          46,
          26,
          59,
          0,
          71,
          23,
          34,
          0,
          21,
          33,
          37,
          28,
          0,
          38,
          47,
          22,
          21,
          70.5,
          29,
          24,
          21,
          0,
          32.5,
          54,
          12,
          0,
          24,
          45,
          33,
          20,
          25,
          23,
          37,
          16,
          24,
          19,
          18,
          19,
          27,
          36.5,
          42,
          51,
          55.5,
          40.5,
          0,
          51,
          30,
          0,
          0,
          44,
          26,
          17,
          1,
          9,
          0,
          28,
          61,
          4,
          21,
          56,
          18,
          0,
          30,
          36,
          0,
          9,
          1,
          0,
          45,
          40,
          36,
          19,
          3,
          0,
          42,
          28,
          0,
          34,
          45.5,
          18,
          32,
          26,
          40,
          24,
          22,
          30,
          0,
          42,
          30,
          16,
          27,
          51,
          0,
          38,
          22,
          19,
          20.5,
          18,
          29,
          59,
          24,
          44,
          19,
          33,
          29,
          22,
          30,
          44,
          37,
          54,
          0,
          62,
          30,
          0,
          3,
          52,
          40,
          36,
          16,
          25,
          0,
          25,
          37,
          0,
          7,
          65,
          28,
          16,
          19,
          0,
          33,
          30,
          22,
          42,
          36,
          24,
          0,
          23.5,
          0,
          0,
          19,
          0,
          0.92,
          30,
          28,
          43,
          54,
          22,
          27,
          0,
          61,
          45.5,
          38,
          16,
          0,
          29,
          45,
          45,
          2,
          28,
          25,
          36,
          3,
          42,
          23,
          0,
          15,
          25,
          0,
          28,
          40,
          29,
          35,
          0,
          30,
          25,
          18,
          19,
          22,
          27,
          20,
          19,
          32,
          0,
          18,
          1,
          0,
          36,
          21,
          28,
          22,
          46,
          23,
          39,
          26,
          28,
          34,
          51,
          3,
          21,
          0,
          0,
          0,
          44,
          30,
          0,
          21,
          29,
          18,
          0,
          0,
          32,
          28,
          17,
          50,
          64,
          31,
          20,
          25,
          0,
          4,
          34,
          52,
          36,
          0,
          30,
          49,
          0,
          29,
          65,
          0,
          48,
          34,
          47,
          48,
          0,
          38,
          0,
          56,
          0,
          0,
          38,
          0,
          34,
          29,
          22,
          9,
          0,
          50,
          25,
          58,
          30,
          9,
          0,
          21,
          55,
          71,
          21,
          0,
          0,
          24,
          17,
          18,
          0,
          28,
          26,
          29,
          0,
          36,
          24,
          47,
          0,
          32,
          22,
          0,
          0,
          40.5,
          0,
          39,
          23,
          0,
          17,
          45,
          0,
          32,
          50,
          64,
          0,
          33,
          8,
          17,
          27,
          0,
          22,
          62,
          0,
          0,
          40,
          28,
          0,
          24,
          19,
          0,
          32,
          62,
          36,
          16,
          19,
          32,
          54,
          36,
          0,
          47,
          60,
          22,
          0,
          35,
          47,
          37,
          36,
          49,
          0,
          49,
          0,
          0,
          44,
          35,
          36,
          30,
          27,
          0,
          0,
          35,
          34,
          26,
          27,
          42,
          20,
          21,
          21,
          61,
          57,
          26,
          0,
          80,
          51,
          32,
          0,
          32,
          31,
          0,
          20,
          0,
          48,
          19,
          56,
          0,
          0,
          21,
          24,
          0,
          23,
          58,
          50,
          40,
          47,
          36,
          20,
          32,
          25,
          0,
          43,
          31,
          70,
          31,
          0,
          18,
          24.5,
          36,
          27,
          20,
          14,
          60,
          25,
          14,
          19,
          18,
          31,
          0,
          25,
          60,
          52,
          44,
          49,
          42,
          35,
          25,
          26,
          39,
          42,
          0,
          0,
          48,
          29,
          52,
          19,
          0,
          33,
          17,
          34,
          50,
          27,
          20,
          25,
          11,
          0,
          23,
          23,
          28.5,
          35,
          0,
          0,
          0,
          36,
          24,
          31,
          70,
          16,
          19,
          31,
          6,
          33,
          23,
          0.67,
          28,
          18,
          34,
          0,
          41,
          20,
          16,
          0,
          0,
          32,
          24,
          48,
          0,
          18,
          0,
          0,
          29,
          0,
          25,
          25,
          8,
          1,
          46,
          0,
          16,
          0,
          25,
          39,
          30,
          34,
          11,
          0.42,
          27,
          31,
          39,
          39,
          26,
          39,
          35,
          30.5,
          0,
          31,
          43,
          10,
          27,
          38,
          2,
          0,
          0,
          1,
          0,
          0.83,
          0,
          23,
          18,
          21,
          0,
          32,
          0,
          20,
          16,
          34.5,
          17,
          42,
          0,
          35,
          28,
          4,
          74,
          51,
          0,
          41,
          21,
          24,
          31,
          0,
          4,
          26,
          33,
          47,
          20,
          19,
          0,
          33,
          28,
          25,
          27,
          26,
          32
         ],
         "xaxis": "x",
         "yaxis": "y"
        },
        {
         "alignmentgroup": "True",
         "bingroup": "x",
         "hovertemplate": "Sex=female<br>Age=%{x}<br>count=%{y}<extra></extra>",
         "legendgroup": "female",
         "marker": {
          "color": "#EF553B"
         },
         "name": "female",
         "nbinsx": 20,
         "offsetgroup": "female",
         "orientation": "v",
         "showlegend": true,
         "type": "histogram",
         "x": [
          38,
          26,
          35,
          27,
          14,
          4,
          58,
          14,
          55,
          31,
          0,
          15,
          8,
          38,
          0,
          0,
          0,
          18,
          14,
          40,
          27,
          3,
          19,
          0,
          18,
          49,
          29,
          21,
          5,
          38,
          29,
          17,
          16,
          30,
          0,
          17,
          33,
          23,
          34,
          28,
          21,
          0,
          14.5,
          20,
          17,
          2,
          32.5,
          0,
          47,
          29,
          19,
          0,
          22,
          24,
          9,
          22,
          16,
          40,
          0,
          45,
          1,
          50,
          0,
          4,
          0,
          32,
          19,
          44,
          58,
          0,
          24,
          2,
          16,
          35,
          31,
          27,
          32,
          0,
          35,
          5,
          0,
          8,
          0,
          0,
          25,
          24,
          29,
          41,
          29,
          0,
          30,
          35,
          50,
          0,
          58,
          35,
          41,
          0,
          63,
          45,
          35,
          22,
          26,
          19,
          24,
          2,
          50,
          0,
          0,
          0,
          17,
          30,
          24,
          18,
          26,
          26,
          24,
          31,
          40,
          30,
          22,
          36,
          36,
          31,
          16,
          0,
          0,
          41,
          24,
          24,
          40,
          0,
          22,
          38,
          0,
          0,
          45,
          60,
          0,
          0,
          24,
          3,
          0,
          22,
          42,
          1,
          35,
          36,
          17,
          23,
          24,
          31,
          28,
          21,
          20,
          0,
          33,
          0,
          34,
          18,
          10,
          28,
          28,
          19,
          0,
          42,
          14,
          21,
          24,
          45,
          28,
          13,
          5,
          0,
          50,
          0.75,
          33,
          23,
          22,
          2,
          63,
          0,
          35,
          54,
          25,
          21,
          0,
          37,
          16,
          33,
          54,
          34,
          36,
          30,
          44,
          50,
          2,
          0,
          30,
          7,
          30,
          22,
          36,
          9,
          11,
          19,
          22,
          48,
          39,
          36,
          0,
          29,
          53,
          0,
          34,
          39,
          0,
          25,
          39,
          18,
          52,
          0,
          0,
          24,
          22,
          40,
          39,
          0,
          24,
          26,
          4,
          21,
          9,
          28,
          41,
          24,
          2,
          0.75,
          23,
          18,
          0,
          18,
          32,
          0,
          40,
          18,
          43,
          0,
          15,
          4,
          0,
          18,
          18,
          45,
          22,
          24,
          38,
          27,
          6,
          30,
          0,
          25,
          29,
          48,
          21,
          30,
          4,
          48,
          33,
          36,
          51,
          30.5,
          57,
          54,
          5,
          43,
          13,
          17,
          18,
          0,
          49,
          31,
          30,
          31,
          18,
          33,
          6,
          23,
          52,
          27,
          62,
          15,
          39,
          30,
          0,
          9,
          16,
          44,
          18,
          45,
          24,
          48,
          0,
          42,
          27,
          47,
          28,
          15,
          56,
          25,
          22,
          39,
          19,
          0
         ],
         "xaxis": "x",
         "yaxis": "y"
        }
       ],
       "layout": {
        "barmode": "relative",
        "legend": {
         "title": {
          "text": "Sex"
         },
         "tracegroupgap": 0
        },
        "margin": {
         "t": 60
        },
        "template": {
         "data": {
          "bar": [
           {
            "error_x": {
             "color": "#2a3f5f"
            },
            "error_y": {
             "color": "#2a3f5f"
            },
            "marker": {
             "line": {
              "color": "#E5ECF6",
              "width": 0.5
             }
            },
            "type": "bar"
           }
          ],
          "barpolar": [
           {
            "marker": {
             "line": {
              "color": "#E5ECF6",
              "width": 0.5
             }
            },
            "type": "barpolar"
           }
          ],
          "carpet": [
           {
            "aaxis": {
             "endlinecolor": "#2a3f5f",
             "gridcolor": "white",
             "linecolor": "white",
             "minorgridcolor": "white",
             "startlinecolor": "#2a3f5f"
            },
            "baxis": {
             "endlinecolor": "#2a3f5f",
             "gridcolor": "white",
             "linecolor": "white",
             "minorgridcolor": "white",
             "startlinecolor": "#2a3f5f"
            },
            "type": "carpet"
           }
          ],
          "choropleth": [
           {
            "colorbar": {
             "outlinewidth": 0,
             "ticks": ""
            },
            "type": "choropleth"
           }
          ],
          "contour": [
           {
            "colorbar": {
             "outlinewidth": 0,
             "ticks": ""
            },
            "colorscale": [
             [
              0,
              "#0d0887"
             ],
             [
              0.1111111111111111,
              "#46039f"
             ],
             [
              0.2222222222222222,
              "#7201a8"
             ],
             [
              0.3333333333333333,
              "#9c179e"
             ],
             [
              0.4444444444444444,
              "#bd3786"
             ],
             [
              0.5555555555555556,
              "#d8576b"
             ],
             [
              0.6666666666666666,
              "#ed7953"
             ],
             [
              0.7777777777777778,
              "#fb9f3a"
             ],
             [
              0.8888888888888888,
              "#fdca26"
             ],
             [
              1,
              "#f0f921"
             ]
            ],
            "type": "contour"
           }
          ],
          "contourcarpet": [
           {
            "colorbar": {
             "outlinewidth": 0,
             "ticks": ""
            },
            "type": "contourcarpet"
           }
          ],
          "heatmap": [
           {
            "colorbar": {
             "outlinewidth": 0,
             "ticks": ""
            },
            "colorscale": [
             [
              0,
              "#0d0887"
             ],
             [
              0.1111111111111111,
              "#46039f"
             ],
             [
              0.2222222222222222,
              "#7201a8"
             ],
             [
              0.3333333333333333,
              "#9c179e"
             ],
             [
              0.4444444444444444,
              "#bd3786"
             ],
             [
              0.5555555555555556,
              "#d8576b"
             ],
             [
              0.6666666666666666,
              "#ed7953"
             ],
             [
              0.7777777777777778,
              "#fb9f3a"
             ],
             [
              0.8888888888888888,
              "#fdca26"
             ],
             [
              1,
              "#f0f921"
             ]
            ],
            "type": "heatmap"
           }
          ],
          "heatmapgl": [
           {
            "colorbar": {
             "outlinewidth": 0,
             "ticks": ""
            },
            "colorscale": [
             [
              0,
              "#0d0887"
             ],
             [
              0.1111111111111111,
              "#46039f"
             ],
             [
              0.2222222222222222,
              "#7201a8"
             ],
             [
              0.3333333333333333,
              "#9c179e"
             ],
             [
              0.4444444444444444,
              "#bd3786"
             ],
             [
              0.5555555555555556,
              "#d8576b"
             ],
             [
              0.6666666666666666,
              "#ed7953"
             ],
             [
              0.7777777777777778,
              "#fb9f3a"
             ],
             [
              0.8888888888888888,
              "#fdca26"
             ],
             [
              1,
              "#f0f921"
             ]
            ],
            "type": "heatmapgl"
           }
          ],
          "histogram": [
           {
            "marker": {
             "colorbar": {
              "outlinewidth": 0,
              "ticks": ""
             }
            },
            "type": "histogram"
           }
          ],
          "histogram2d": [
           {
            "colorbar": {
             "outlinewidth": 0,
             "ticks": ""
            },
            "colorscale": [
             [
              0,
              "#0d0887"
             ],
             [
              0.1111111111111111,
              "#46039f"
             ],
             [
              0.2222222222222222,
              "#7201a8"
             ],
             [
              0.3333333333333333,
              "#9c179e"
             ],
             [
              0.4444444444444444,
              "#bd3786"
             ],
             [
              0.5555555555555556,
              "#d8576b"
             ],
             [
              0.6666666666666666,
              "#ed7953"
             ],
             [
              0.7777777777777778,
              "#fb9f3a"
             ],
             [
              0.8888888888888888,
              "#fdca26"
             ],
             [
              1,
              "#f0f921"
             ]
            ],
            "type": "histogram2d"
           }
          ],
          "histogram2dcontour": [
           {
            "colorbar": {
             "outlinewidth": 0,
             "ticks": ""
            },
            "colorscale": [
             [
              0,
              "#0d0887"
             ],
             [
              0.1111111111111111,
              "#46039f"
             ],
             [
              0.2222222222222222,
              "#7201a8"
             ],
             [
              0.3333333333333333,
              "#9c179e"
             ],
             [
              0.4444444444444444,
              "#bd3786"
             ],
             [
              0.5555555555555556,
              "#d8576b"
             ],
             [
              0.6666666666666666,
              "#ed7953"
             ],
             [
              0.7777777777777778,
              "#fb9f3a"
             ],
             [
              0.8888888888888888,
              "#fdca26"
             ],
             [
              1,
              "#f0f921"
             ]
            ],
            "type": "histogram2dcontour"
           }
          ],
          "mesh3d": [
           {
            "colorbar": {
             "outlinewidth": 0,
             "ticks": ""
            },
            "type": "mesh3d"
           }
          ],
          "parcoords": [
           {
            "line": {
             "colorbar": {
              "outlinewidth": 0,
              "ticks": ""
             }
            },
            "type": "parcoords"
           }
          ],
          "pie": [
           {
            "automargin": true,
            "type": "pie"
           }
          ],
          "scatter": [
           {
            "marker": {
             "colorbar": {
              "outlinewidth": 0,
              "ticks": ""
             }
            },
            "type": "scatter"
           }
          ],
          "scatter3d": [
           {
            "line": {
             "colorbar": {
              "outlinewidth": 0,
              "ticks": ""
             }
            },
            "marker": {
             "colorbar": {
              "outlinewidth": 0,
              "ticks": ""
             }
            },
            "type": "scatter3d"
           }
          ],
          "scattercarpet": [
           {
            "marker": {
             "colorbar": {
              "outlinewidth": 0,
              "ticks": ""
             }
            },
            "type": "scattercarpet"
           }
          ],
          "scattergeo": [
           {
            "marker": {
             "colorbar": {
              "outlinewidth": 0,
              "ticks": ""
             }
            },
            "type": "scattergeo"
           }
          ],
          "scattergl": [
           {
            "marker": {
             "colorbar": {
              "outlinewidth": 0,
              "ticks": ""
             }
            },
            "type": "scattergl"
           }
          ],
          "scattermapbox": [
           {
            "marker": {
             "colorbar": {
              "outlinewidth": 0,
              "ticks": ""
             }
            },
            "type": "scattermapbox"
           }
          ],
          "scatterpolar": [
           {
            "marker": {
             "colorbar": {
              "outlinewidth": 0,
              "ticks": ""
             }
            },
            "type": "scatterpolar"
           }
          ],
          "scatterpolargl": [
           {
            "marker": {
             "colorbar": {
              "outlinewidth": 0,
              "ticks": ""
             }
            },
            "type": "scatterpolargl"
           }
          ],
          "scatterternary": [
           {
            "marker": {
             "colorbar": {
              "outlinewidth": 0,
              "ticks": ""
             }
            },
            "type": "scatterternary"
           }
          ],
          "surface": [
           {
            "colorbar": {
             "outlinewidth": 0,
             "ticks": ""
            },
            "colorscale": [
             [
              0,
              "#0d0887"
             ],
             [
              0.1111111111111111,
              "#46039f"
             ],
             [
              0.2222222222222222,
              "#7201a8"
             ],
             [
              0.3333333333333333,
              "#9c179e"
             ],
             [
              0.4444444444444444,
              "#bd3786"
             ],
             [
              0.5555555555555556,
              "#d8576b"
             ],
             [
              0.6666666666666666,
              "#ed7953"
             ],
             [
              0.7777777777777778,
              "#fb9f3a"
             ],
             [
              0.8888888888888888,
              "#fdca26"
             ],
             [
              1,
              "#f0f921"
             ]
            ],
            "type": "surface"
           }
          ],
          "table": [
           {
            "cells": {
             "fill": {
              "color": "#EBF0F8"
             },
             "line": {
              "color": "white"
             }
            },
            "header": {
             "fill": {
              "color": "#C8D4E3"
             },
             "line": {
              "color": "white"
             }
            },
            "type": "table"
           }
          ]
         },
         "layout": {
          "annotationdefaults": {
           "arrowcolor": "#2a3f5f",
           "arrowhead": 0,
           "arrowwidth": 1
          },
          "autotypenumbers": "strict",
          "coloraxis": {
           "colorbar": {
            "outlinewidth": 0,
            "ticks": ""
           }
          },
          "colorscale": {
           "diverging": [
            [
             0,
             "#8e0152"
            ],
            [
             0.1,
             "#c51b7d"
            ],
            [
             0.2,
             "#de77ae"
            ],
            [
             0.3,
             "#f1b6da"
            ],
            [
             0.4,
             "#fde0ef"
            ],
            [
             0.5,
             "#f7f7f7"
            ],
            [
             0.6,
             "#e6f5d0"
            ],
            [
             0.7,
             "#b8e186"
            ],
            [
             0.8,
             "#7fbc41"
            ],
            [
             0.9,
             "#4d9221"
            ],
            [
             1,
             "#276419"
            ]
           ],
           "sequential": [
            [
             0,
             "#0d0887"
            ],
            [
             0.1111111111111111,
             "#46039f"
            ],
            [
             0.2222222222222222,
             "#7201a8"
            ],
            [
             0.3333333333333333,
             "#9c179e"
            ],
            [
             0.4444444444444444,
             "#bd3786"
            ],
            [
             0.5555555555555556,
             "#d8576b"
            ],
            [
             0.6666666666666666,
             "#ed7953"
            ],
            [
             0.7777777777777778,
             "#fb9f3a"
            ],
            [
             0.8888888888888888,
             "#fdca26"
            ],
            [
             1,
             "#f0f921"
            ]
           ],
           "sequentialminus": [
            [
             0,
             "#0d0887"
            ],
            [
             0.1111111111111111,
             "#46039f"
            ],
            [
             0.2222222222222222,
             "#7201a8"
            ],
            [
             0.3333333333333333,
             "#9c179e"
            ],
            [
             0.4444444444444444,
             "#bd3786"
            ],
            [
             0.5555555555555556,
             "#d8576b"
            ],
            [
             0.6666666666666666,
             "#ed7953"
            ],
            [
             0.7777777777777778,
             "#fb9f3a"
            ],
            [
             0.8888888888888888,
             "#fdca26"
            ],
            [
             1,
             "#f0f921"
            ]
           ]
          },
          "colorway": [
           "#636efa",
           "#EF553B",
           "#00cc96",
           "#ab63fa",
           "#FFA15A",
           "#19d3f3",
           "#FF6692",
           "#B6E880",
           "#FF97FF",
           "#FECB52"
          ],
          "font": {
           "color": "#2a3f5f"
          },
          "geo": {
           "bgcolor": "white",
           "lakecolor": "white",
           "landcolor": "#E5ECF6",
           "showlakes": true,
           "showland": true,
           "subunitcolor": "white"
          },
          "hoverlabel": {
           "align": "left"
          },
          "hovermode": "closest",
          "mapbox": {
           "style": "light"
          },
          "paper_bgcolor": "white",
          "plot_bgcolor": "#E5ECF6",
          "polar": {
           "angularaxis": {
            "gridcolor": "white",
            "linecolor": "white",
            "ticks": ""
           },
           "bgcolor": "#E5ECF6",
           "radialaxis": {
            "gridcolor": "white",
            "linecolor": "white",
            "ticks": ""
           }
          },
          "scene": {
           "xaxis": {
            "backgroundcolor": "#E5ECF6",
            "gridcolor": "white",
            "gridwidth": 2,
            "linecolor": "white",
            "showbackground": true,
            "ticks": "",
            "zerolinecolor": "white"
           },
           "yaxis": {
            "backgroundcolor": "#E5ECF6",
            "gridcolor": "white",
            "gridwidth": 2,
            "linecolor": "white",
            "showbackground": true,
            "ticks": "",
            "zerolinecolor": "white"
           },
           "zaxis": {
            "backgroundcolor": "#E5ECF6",
            "gridcolor": "white",
            "gridwidth": 2,
            "linecolor": "white",
            "showbackground": true,
            "ticks": "",
            "zerolinecolor": "white"
           }
          },
          "shapedefaults": {
           "line": {
            "color": "#2a3f5f"
           }
          },
          "ternary": {
           "aaxis": {
            "gridcolor": "white",
            "linecolor": "white",
            "ticks": ""
           },
           "baxis": {
            "gridcolor": "white",
            "linecolor": "white",
            "ticks": ""
           },
           "bgcolor": "#E5ECF6",
           "caxis": {
            "gridcolor": "white",
            "linecolor": "white",
            "ticks": ""
           }
          },
          "title": {
           "x": 0.05
          },
          "xaxis": {
           "automargin": true,
           "gridcolor": "white",
           "linecolor": "white",
           "ticks": "",
           "title": {
            "standoff": 15
           },
           "zerolinecolor": "white",
           "zerolinewidth": 2
          },
          "yaxis": {
           "automargin": true,
           "gridcolor": "white",
           "linecolor": "white",
           "ticks": "",
           "title": {
            "standoff": 15
           },
           "zerolinecolor": "white",
           "zerolinewidth": 2
          }
         }
        },
        "xaxis": {
         "anchor": "y",
         "domain": [
          0,
          1
         ],
         "title": {
          "text": "Age"
         }
        },
        "yaxis": {
         "anchor": "x",
         "domain": [
          0,
          1
         ],
         "title": {
          "text": "count"
         }
        }
       }
      },
      "text/html": [
       "<div>                            <div id=\"f9107c97-5282-405b-823e-2cb1fac59852\" class=\"plotly-graph-div\" style=\"height:525px; width:100%;\"></div>            <script type=\"text/javascript\">                require([\"plotly\"], function(Plotly) {                    window.PLOTLYENV=window.PLOTLYENV || {};                                    if (document.getElementById(\"f9107c97-5282-405b-823e-2cb1fac59852\")) {                    Plotly.newPlot(                        \"f9107c97-5282-405b-823e-2cb1fac59852\",                        [{\"alignmentgroup\": \"True\", \"bingroup\": \"x\", \"hovertemplate\": \"Sex=male<br>Age=%{x}<br>count=%{y}<extra></extra>\", \"legendgroup\": \"male\", \"marker\": {\"color\": \"#636efa\"}, \"name\": \"male\", \"nbinsx\": 20, \"offsetgroup\": \"male\", \"orientation\": \"v\", \"showlegend\": true, \"type\": \"histogram\", \"x\": [22.0, 35.0, 0.0, 54.0, 2.0, 20.0, 39.0, 2.0, 0.0, 35.0, 34.0, 28.0, 0.0, 19.0, 0.0, 40.0, 66.0, 28.0, 42.0, 0.0, 21.0, 0.0, 0.0, 0.0, 0.0, 7.0, 21.0, 65.0, 0.0, 28.5, 11.0, 22.0, 45.0, 4.0, 0.0, 0.0, 19.0, 26.0, 32.0, 21.0, 26.0, 32.0, 25.0, 0.0, 0.0, 0.83, 22.0, 29.0, 28.0, 16.0, 0.0, 24.0, 29.0, 20.0, 46.0, 26.0, 59.0, 0.0, 71.0, 23.0, 34.0, 0.0, 21.0, 33.0, 37.0, 28.0, 0.0, 38.0, 47.0, 22.0, 21.0, 70.5, 29.0, 24.0, 21.0, 0.0, 32.5, 54.0, 12.0, 0.0, 24.0, 45.0, 33.0, 20.0, 25.0, 23.0, 37.0, 16.0, 24.0, 19.0, 18.0, 19.0, 27.0, 36.5, 42.0, 51.0, 55.5, 40.5, 0.0, 51.0, 30.0, 0.0, 0.0, 44.0, 26.0, 17.0, 1.0, 9.0, 0.0, 28.0, 61.0, 4.0, 21.0, 56.0, 18.0, 0.0, 30.0, 36.0, 0.0, 9.0, 1.0, 0.0, 45.0, 40.0, 36.0, 19.0, 3.0, 0.0, 42.0, 28.0, 0.0, 34.0, 45.5, 18.0, 32.0, 26.0, 40.0, 24.0, 22.0, 30.0, 0.0, 42.0, 30.0, 16.0, 27.0, 51.0, 0.0, 38.0, 22.0, 19.0, 20.5, 18.0, 29.0, 59.0, 24.0, 44.0, 19.0, 33.0, 29.0, 22.0, 30.0, 44.0, 37.0, 54.0, 0.0, 62.0, 30.0, 0.0, 3.0, 52.0, 40.0, 36.0, 16.0, 25.0, 0.0, 25.0, 37.0, 0.0, 7.0, 65.0, 28.0, 16.0, 19.0, 0.0, 33.0, 30.0, 22.0, 42.0, 36.0, 24.0, 0.0, 23.5, 0.0, 0.0, 19.0, 0.0, 0.92, 30.0, 28.0, 43.0, 54.0, 22.0, 27.0, 0.0, 61.0, 45.5, 38.0, 16.0, 0.0, 29.0, 45.0, 45.0, 2.0, 28.0, 25.0, 36.0, 3.0, 42.0, 23.0, 0.0, 15.0, 25.0, 0.0, 28.0, 40.0, 29.0, 35.0, 0.0, 30.0, 25.0, 18.0, 19.0, 22.0, 27.0, 20.0, 19.0, 32.0, 0.0, 18.0, 1.0, 0.0, 36.0, 21.0, 28.0, 22.0, 46.0, 23.0, 39.0, 26.0, 28.0, 34.0, 51.0, 3.0, 21.0, 0.0, 0.0, 0.0, 44.0, 30.0, 0.0, 21.0, 29.0, 18.0, 0.0, 0.0, 32.0, 28.0, 17.0, 50.0, 64.0, 31.0, 20.0, 25.0, 0.0, 4.0, 34.0, 52.0, 36.0, 0.0, 30.0, 49.0, 0.0, 29.0, 65.0, 0.0, 48.0, 34.0, 47.0, 48.0, 0.0, 38.0, 0.0, 56.0, 0.0, 0.0, 38.0, 0.0, 34.0, 29.0, 22.0, 9.0, 0.0, 50.0, 25.0, 58.0, 30.0, 9.0, 0.0, 21.0, 55.0, 71.0, 21.0, 0.0, 0.0, 24.0, 17.0, 18.0, 0.0, 28.0, 26.0, 29.0, 0.0, 36.0, 24.0, 47.0, 0.0, 32.0, 22.0, 0.0, 0.0, 40.5, 0.0, 39.0, 23.0, 0.0, 17.0, 45.0, 0.0, 32.0, 50.0, 64.0, 0.0, 33.0, 8.0, 17.0, 27.0, 0.0, 22.0, 62.0, 0.0, 0.0, 40.0, 28.0, 0.0, 24.0, 19.0, 0.0, 32.0, 62.0, 36.0, 16.0, 19.0, 32.0, 54.0, 36.0, 0.0, 47.0, 60.0, 22.0, 0.0, 35.0, 47.0, 37.0, 36.0, 49.0, 0.0, 49.0, 0.0, 0.0, 44.0, 35.0, 36.0, 30.0, 27.0, 0.0, 0.0, 35.0, 34.0, 26.0, 27.0, 42.0, 20.0, 21.0, 21.0, 61.0, 57.0, 26.0, 0.0, 80.0, 51.0, 32.0, 0.0, 32.0, 31.0, 0.0, 20.0, 0.0, 48.0, 19.0, 56.0, 0.0, 0.0, 21.0, 24.0, 0.0, 23.0, 58.0, 50.0, 40.0, 47.0, 36.0, 20.0, 32.0, 25.0, 0.0, 43.0, 31.0, 70.0, 31.0, 0.0, 18.0, 24.5, 36.0, 27.0, 20.0, 14.0, 60.0, 25.0, 14.0, 19.0, 18.0, 31.0, 0.0, 25.0, 60.0, 52.0, 44.0, 49.0, 42.0, 35.0, 25.0, 26.0, 39.0, 42.0, 0.0, 0.0, 48.0, 29.0, 52.0, 19.0, 0.0, 33.0, 17.0, 34.0, 50.0, 27.0, 20.0, 25.0, 11.0, 0.0, 23.0, 23.0, 28.5, 35.0, 0.0, 0.0, 0.0, 36.0, 24.0, 31.0, 70.0, 16.0, 19.0, 31.0, 6.0, 33.0, 23.0, 0.67, 28.0, 18.0, 34.0, 0.0, 41.0, 20.0, 16.0, 0.0, 0.0, 32.0, 24.0, 48.0, 0.0, 18.0, 0.0, 0.0, 29.0, 0.0, 25.0, 25.0, 8.0, 1.0, 46.0, 0.0, 16.0, 0.0, 25.0, 39.0, 30.0, 34.0, 11.0, 0.42, 27.0, 31.0, 39.0, 39.0, 26.0, 39.0, 35.0, 30.5, 0.0, 31.0, 43.0, 10.0, 27.0, 38.0, 2.0, 0.0, 0.0, 1.0, 0.0, 0.83, 0.0, 23.0, 18.0, 21.0, 0.0, 32.0, 0.0, 20.0, 16.0, 34.5, 17.0, 42.0, 0.0, 35.0, 28.0, 4.0, 74.0, 51.0, 0.0, 41.0, 21.0, 24.0, 31.0, 0.0, 4.0, 26.0, 33.0, 47.0, 20.0, 19.0, 0.0, 33.0, 28.0, 25.0, 27.0, 26.0, 32.0], \"xaxis\": \"x\", \"yaxis\": \"y\"}, {\"alignmentgroup\": \"True\", \"bingroup\": \"x\", \"hovertemplate\": \"Sex=female<br>Age=%{x}<br>count=%{y}<extra></extra>\", \"legendgroup\": \"female\", \"marker\": {\"color\": \"#EF553B\"}, \"name\": \"female\", \"nbinsx\": 20, \"offsetgroup\": \"female\", \"orientation\": \"v\", \"showlegend\": true, \"type\": \"histogram\", \"x\": [38.0, 26.0, 35.0, 27.0, 14.0, 4.0, 58.0, 14.0, 55.0, 31.0, 0.0, 15.0, 8.0, 38.0, 0.0, 0.0, 0.0, 18.0, 14.0, 40.0, 27.0, 3.0, 19.0, 0.0, 18.0, 49.0, 29.0, 21.0, 5.0, 38.0, 29.0, 17.0, 16.0, 30.0, 0.0, 17.0, 33.0, 23.0, 34.0, 28.0, 21.0, 0.0, 14.5, 20.0, 17.0, 2.0, 32.5, 0.0, 47.0, 29.0, 19.0, 0.0, 22.0, 24.0, 9.0, 22.0, 16.0, 40.0, 0.0, 45.0, 1.0, 50.0, 0.0, 4.0, 0.0, 32.0, 19.0, 44.0, 58.0, 0.0, 24.0, 2.0, 16.0, 35.0, 31.0, 27.0, 32.0, 0.0, 35.0, 5.0, 0.0, 8.0, 0.0, 0.0, 25.0, 24.0, 29.0, 41.0, 29.0, 0.0, 30.0, 35.0, 50.0, 0.0, 58.0, 35.0, 41.0, 0.0, 63.0, 45.0, 35.0, 22.0, 26.0, 19.0, 24.0, 2.0, 50.0, 0.0, 0.0, 0.0, 17.0, 30.0, 24.0, 18.0, 26.0, 26.0, 24.0, 31.0, 40.0, 30.0, 22.0, 36.0, 36.0, 31.0, 16.0, 0.0, 0.0, 41.0, 24.0, 24.0, 40.0, 0.0, 22.0, 38.0, 0.0, 0.0, 45.0, 60.0, 0.0, 0.0, 24.0, 3.0, 0.0, 22.0, 42.0, 1.0, 35.0, 36.0, 17.0, 23.0, 24.0, 31.0, 28.0, 21.0, 20.0, 0.0, 33.0, 0.0, 34.0, 18.0, 10.0, 28.0, 28.0, 19.0, 0.0, 42.0, 14.0, 21.0, 24.0, 45.0, 28.0, 13.0, 5.0, 0.0, 50.0, 0.75, 33.0, 23.0, 22.0, 2.0, 63.0, 0.0, 35.0, 54.0, 25.0, 21.0, 0.0, 37.0, 16.0, 33.0, 54.0, 34.0, 36.0, 30.0, 44.0, 50.0, 2.0, 0.0, 30.0, 7.0, 30.0, 22.0, 36.0, 9.0, 11.0, 19.0, 22.0, 48.0, 39.0, 36.0, 0.0, 29.0, 53.0, 0.0, 34.0, 39.0, 0.0, 25.0, 39.0, 18.0, 52.0, 0.0, 0.0, 24.0, 22.0, 40.0, 39.0, 0.0, 24.0, 26.0, 4.0, 21.0, 9.0, 28.0, 41.0, 24.0, 2.0, 0.75, 23.0, 18.0, 0.0, 18.0, 32.0, 0.0, 40.0, 18.0, 43.0, 0.0, 15.0, 4.0, 0.0, 18.0, 18.0, 45.0, 22.0, 24.0, 38.0, 27.0, 6.0, 30.0, 0.0, 25.0, 29.0, 48.0, 21.0, 30.0, 4.0, 48.0, 33.0, 36.0, 51.0, 30.5, 57.0, 54.0, 5.0, 43.0, 13.0, 17.0, 18.0, 0.0, 49.0, 31.0, 30.0, 31.0, 18.0, 33.0, 6.0, 23.0, 52.0, 27.0, 62.0, 15.0, 39.0, 30.0, 0.0, 9.0, 16.0, 44.0, 18.0, 45.0, 24.0, 48.0, 0.0, 42.0, 27.0, 47.0, 28.0, 15.0, 56.0, 25.0, 22.0, 39.0, 19.0, 0.0], \"xaxis\": \"x\", \"yaxis\": \"y\"}],                        {\"barmode\": \"relative\", \"legend\": {\"title\": {\"text\": \"Sex\"}, \"tracegroupgap\": 0}, \"margin\": {\"t\": 60}, \"template\": {\"data\": {\"bar\": [{\"error_x\": {\"color\": \"#2a3f5f\"}, \"error_y\": {\"color\": \"#2a3f5f\"}, \"marker\": {\"line\": {\"color\": \"#E5ECF6\", \"width\": 0.5}}, \"type\": \"bar\"}], \"barpolar\": [{\"marker\": {\"line\": {\"color\": \"#E5ECF6\", \"width\": 0.5}}, \"type\": \"barpolar\"}], \"carpet\": [{\"aaxis\": {\"endlinecolor\": \"#2a3f5f\", \"gridcolor\": \"white\", \"linecolor\": \"white\", \"minorgridcolor\": \"white\", \"startlinecolor\": \"#2a3f5f\"}, \"baxis\": {\"endlinecolor\": \"#2a3f5f\", \"gridcolor\": \"white\", \"linecolor\": \"white\", \"minorgridcolor\": \"white\", \"startlinecolor\": \"#2a3f5f\"}, \"type\": \"carpet\"}], \"choropleth\": [{\"colorbar\": {\"outlinewidth\": 0, \"ticks\": \"\"}, \"type\": \"choropleth\"}], \"contour\": [{\"colorbar\": {\"outlinewidth\": 0, \"ticks\": \"\"}, \"colorscale\": [[0.0, \"#0d0887\"], [0.1111111111111111, \"#46039f\"], [0.2222222222222222, \"#7201a8\"], [0.3333333333333333, \"#9c179e\"], [0.4444444444444444, \"#bd3786\"], [0.5555555555555556, \"#d8576b\"], [0.6666666666666666, \"#ed7953\"], [0.7777777777777778, \"#fb9f3a\"], [0.8888888888888888, \"#fdca26\"], [1.0, \"#f0f921\"]], \"type\": \"contour\"}], \"contourcarpet\": [{\"colorbar\": {\"outlinewidth\": 0, \"ticks\": \"\"}, \"type\": \"contourcarpet\"}], \"heatmap\": [{\"colorbar\": {\"outlinewidth\": 0, \"ticks\": \"\"}, \"colorscale\": [[0.0, \"#0d0887\"], [0.1111111111111111, \"#46039f\"], [0.2222222222222222, \"#7201a8\"], [0.3333333333333333, \"#9c179e\"], [0.4444444444444444, \"#bd3786\"], [0.5555555555555556, \"#d8576b\"], [0.6666666666666666, \"#ed7953\"], [0.7777777777777778, \"#fb9f3a\"], [0.8888888888888888, \"#fdca26\"], [1.0, \"#f0f921\"]], \"type\": \"heatmap\"}], \"heatmapgl\": [{\"colorbar\": {\"outlinewidth\": 0, \"ticks\": \"\"}, \"colorscale\": [[0.0, \"#0d0887\"], [0.1111111111111111, \"#46039f\"], [0.2222222222222222, \"#7201a8\"], [0.3333333333333333, \"#9c179e\"], [0.4444444444444444, \"#bd3786\"], [0.5555555555555556, \"#d8576b\"], [0.6666666666666666, \"#ed7953\"], [0.7777777777777778, \"#fb9f3a\"], [0.8888888888888888, \"#fdca26\"], [1.0, \"#f0f921\"]], \"type\": \"heatmapgl\"}], \"histogram\": [{\"marker\": {\"colorbar\": {\"outlinewidth\": 0, \"ticks\": \"\"}}, \"type\": \"histogram\"}], \"histogram2d\": [{\"colorbar\": {\"outlinewidth\": 0, \"ticks\": \"\"}, \"colorscale\": [[0.0, \"#0d0887\"], [0.1111111111111111, \"#46039f\"], [0.2222222222222222, \"#7201a8\"], [0.3333333333333333, \"#9c179e\"], [0.4444444444444444, \"#bd3786\"], [0.5555555555555556, \"#d8576b\"], [0.6666666666666666, \"#ed7953\"], [0.7777777777777778, \"#fb9f3a\"], [0.8888888888888888, \"#fdca26\"], [1.0, \"#f0f921\"]], \"type\": \"histogram2d\"}], \"histogram2dcontour\": [{\"colorbar\": {\"outlinewidth\": 0, \"ticks\": \"\"}, \"colorscale\": [[0.0, \"#0d0887\"], [0.1111111111111111, \"#46039f\"], [0.2222222222222222, \"#7201a8\"], [0.3333333333333333, \"#9c179e\"], [0.4444444444444444, \"#bd3786\"], [0.5555555555555556, \"#d8576b\"], [0.6666666666666666, \"#ed7953\"], [0.7777777777777778, \"#fb9f3a\"], [0.8888888888888888, \"#fdca26\"], [1.0, \"#f0f921\"]], \"type\": \"histogram2dcontour\"}], \"mesh3d\": [{\"colorbar\": {\"outlinewidth\": 0, \"ticks\": \"\"}, \"type\": \"mesh3d\"}], \"parcoords\": [{\"line\": {\"colorbar\": {\"outlinewidth\": 0, \"ticks\": \"\"}}, \"type\": \"parcoords\"}], \"pie\": [{\"automargin\": true, \"type\": \"pie\"}], \"scatter\": [{\"marker\": {\"colorbar\": {\"outlinewidth\": 0, \"ticks\": \"\"}}, \"type\": \"scatter\"}], \"scatter3d\": [{\"line\": {\"colorbar\": {\"outlinewidth\": 0, \"ticks\": \"\"}}, \"marker\": {\"colorbar\": {\"outlinewidth\": 0, \"ticks\": \"\"}}, \"type\": \"scatter3d\"}], \"scattercarpet\": [{\"marker\": {\"colorbar\": {\"outlinewidth\": 0, \"ticks\": \"\"}}, \"type\": \"scattercarpet\"}], \"scattergeo\": [{\"marker\": {\"colorbar\": {\"outlinewidth\": 0, \"ticks\": \"\"}}, \"type\": \"scattergeo\"}], \"scattergl\": [{\"marker\": {\"colorbar\": {\"outlinewidth\": 0, \"ticks\": \"\"}}, \"type\": \"scattergl\"}], \"scattermapbox\": [{\"marker\": {\"colorbar\": {\"outlinewidth\": 0, \"ticks\": \"\"}}, \"type\": \"scattermapbox\"}], \"scatterpolar\": [{\"marker\": {\"colorbar\": {\"outlinewidth\": 0, \"ticks\": \"\"}}, \"type\": \"scatterpolar\"}], \"scatterpolargl\": [{\"marker\": {\"colorbar\": {\"outlinewidth\": 0, \"ticks\": \"\"}}, \"type\": \"scatterpolargl\"}], \"scatterternary\": [{\"marker\": {\"colorbar\": {\"outlinewidth\": 0, \"ticks\": \"\"}}, \"type\": \"scatterternary\"}], \"surface\": [{\"colorbar\": {\"outlinewidth\": 0, \"ticks\": \"\"}, \"colorscale\": [[0.0, \"#0d0887\"], [0.1111111111111111, \"#46039f\"], [0.2222222222222222, \"#7201a8\"], [0.3333333333333333, \"#9c179e\"], [0.4444444444444444, \"#bd3786\"], [0.5555555555555556, \"#d8576b\"], [0.6666666666666666, \"#ed7953\"], [0.7777777777777778, \"#fb9f3a\"], [0.8888888888888888, \"#fdca26\"], [1.0, \"#f0f921\"]], \"type\": \"surface\"}], \"table\": [{\"cells\": {\"fill\": {\"color\": \"#EBF0F8\"}, \"line\": {\"color\": \"white\"}}, \"header\": {\"fill\": {\"color\": \"#C8D4E3\"}, \"line\": {\"color\": \"white\"}}, \"type\": \"table\"}]}, \"layout\": {\"annotationdefaults\": {\"arrowcolor\": \"#2a3f5f\", \"arrowhead\": 0, \"arrowwidth\": 1}, \"autotypenumbers\": \"strict\", \"coloraxis\": {\"colorbar\": {\"outlinewidth\": 0, \"ticks\": \"\"}}, \"colorscale\": {\"diverging\": [[0, \"#8e0152\"], [0.1, \"#c51b7d\"], [0.2, \"#de77ae\"], [0.3, \"#f1b6da\"], [0.4, \"#fde0ef\"], [0.5, \"#f7f7f7\"], [0.6, \"#e6f5d0\"], [0.7, \"#b8e186\"], [0.8, \"#7fbc41\"], [0.9, \"#4d9221\"], [1, \"#276419\"]], \"sequential\": [[0.0, \"#0d0887\"], [0.1111111111111111, \"#46039f\"], [0.2222222222222222, \"#7201a8\"], [0.3333333333333333, \"#9c179e\"], [0.4444444444444444, \"#bd3786\"], [0.5555555555555556, \"#d8576b\"], [0.6666666666666666, \"#ed7953\"], [0.7777777777777778, \"#fb9f3a\"], [0.8888888888888888, \"#fdca26\"], [1.0, \"#f0f921\"]], \"sequentialminus\": [[0.0, \"#0d0887\"], [0.1111111111111111, \"#46039f\"], [0.2222222222222222, \"#7201a8\"], [0.3333333333333333, \"#9c179e\"], [0.4444444444444444, \"#bd3786\"], [0.5555555555555556, \"#d8576b\"], [0.6666666666666666, \"#ed7953\"], [0.7777777777777778, \"#fb9f3a\"], [0.8888888888888888, \"#fdca26\"], [1.0, \"#f0f921\"]]}, \"colorway\": [\"#636efa\", \"#EF553B\", \"#00cc96\", \"#ab63fa\", \"#FFA15A\", \"#19d3f3\", \"#FF6692\", \"#B6E880\", \"#FF97FF\", \"#FECB52\"], \"font\": {\"color\": \"#2a3f5f\"}, \"geo\": {\"bgcolor\": \"white\", \"lakecolor\": \"white\", \"landcolor\": \"#E5ECF6\", \"showlakes\": true, \"showland\": true, \"subunitcolor\": \"white\"}, \"hoverlabel\": {\"align\": \"left\"}, \"hovermode\": \"closest\", \"mapbox\": {\"style\": \"light\"}, \"paper_bgcolor\": \"white\", \"plot_bgcolor\": \"#E5ECF6\", \"polar\": {\"angularaxis\": {\"gridcolor\": \"white\", \"linecolor\": \"white\", \"ticks\": \"\"}, \"bgcolor\": \"#E5ECF6\", \"radialaxis\": {\"gridcolor\": \"white\", \"linecolor\": \"white\", \"ticks\": \"\"}}, \"scene\": {\"xaxis\": {\"backgroundcolor\": \"#E5ECF6\", \"gridcolor\": \"white\", \"gridwidth\": 2, \"linecolor\": \"white\", \"showbackground\": true, \"ticks\": \"\", \"zerolinecolor\": \"white\"}, \"yaxis\": {\"backgroundcolor\": \"#E5ECF6\", \"gridcolor\": \"white\", \"gridwidth\": 2, \"linecolor\": \"white\", \"showbackground\": true, \"ticks\": \"\", \"zerolinecolor\": \"white\"}, \"zaxis\": {\"backgroundcolor\": \"#E5ECF6\", \"gridcolor\": \"white\", \"gridwidth\": 2, \"linecolor\": \"white\", \"showbackground\": true, \"ticks\": \"\", \"zerolinecolor\": \"white\"}}, \"shapedefaults\": {\"line\": {\"color\": \"#2a3f5f\"}}, \"ternary\": {\"aaxis\": {\"gridcolor\": \"white\", \"linecolor\": \"white\", \"ticks\": \"\"}, \"baxis\": {\"gridcolor\": \"white\", \"linecolor\": \"white\", \"ticks\": \"\"}, \"bgcolor\": \"#E5ECF6\", \"caxis\": {\"gridcolor\": \"white\", \"linecolor\": \"white\", \"ticks\": \"\"}}, \"title\": {\"x\": 0.05}, \"xaxis\": {\"automargin\": true, \"gridcolor\": \"white\", \"linecolor\": \"white\", \"ticks\": \"\", \"title\": {\"standoff\": 15}, \"zerolinecolor\": \"white\", \"zerolinewidth\": 2}, \"yaxis\": {\"automargin\": true, \"gridcolor\": \"white\", \"linecolor\": \"white\", \"ticks\": \"\", \"title\": {\"standoff\": 15}, \"zerolinecolor\": \"white\", \"zerolinewidth\": 2}}}, \"xaxis\": {\"anchor\": \"y\", \"domain\": [0.0, 1.0], \"title\": {\"text\": \"Age\"}}, \"yaxis\": {\"anchor\": \"x\", \"domain\": [0.0, 1.0], \"title\": {\"text\": \"count\"}}},                        {\"responsive\": true}                    ).then(function(){\n",
       "                            \n",
       "var gd = document.getElementById('f9107c97-5282-405b-823e-2cb1fac59852');\n",
       "var x = new MutationObserver(function (mutations, observer) {{\n",
       "        var display = window.getComputedStyle(gd).display;\n",
       "        if (!display || display === 'none') {{\n",
       "            console.log([gd, 'removed!']);\n",
       "            Plotly.purge(gd);\n",
       "            observer.disconnect();\n",
       "        }}\n",
       "}});\n",
       "\n",
       "// Listen for the removal of the full notebook cells\n",
       "var notebookContainer = gd.closest('#notebook-container');\n",
       "if (notebookContainer) {{\n",
       "    x.observe(notebookContainer, {childList: true});\n",
       "}}\n",
       "\n",
       "// Listen for the clearing of the current output cell\n",
       "var outputEl = gd.closest('.output');\n",
       "if (outputEl) {{\n",
       "    x.observe(outputEl, {childList: true});\n",
       "}}\n",
       "\n",
       "                        })                };                });            </script>        </div>"
      ]
     },
     "metadata": {},
     "output_type": "display_data"
    }
   ],
   "source": [
    "fig = px.histogram(data, x=\"Age\", color='Sex', nbins=20)\n",
    "fig.show()"
   ]
  },
  {
   "cell_type": "code",
   "execution_count": null,
   "metadata": {},
   "outputs": [],
   "source": []
  }
 ],
 "metadata": {
  "kernelspec": {
   "display_name": "Python 3",
   "language": "python",
   "name": "python3"
  },
  "language_info": {
   "codemirror_mode": {
    "name": "ipython",
    "version": 3
   },
   "file_extension": ".py",
   "mimetype": "text/x-python",
   "name": "python",
   "nbconvert_exporter": "python",
   "pygments_lexer": "ipython3",
   "version": "3.8.8"
  }
 },
 "nbformat": 4,
 "nbformat_minor": 4
}
